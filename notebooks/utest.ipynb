{
 "cells": [
  {
   "cell_type": "code",
   "execution_count": 5,
   "id": "93fbbb0a",
   "metadata": {},
   "outputs": [
    {
     "data": {
      "application/javascript": [
       "IPython.OutputArea.prototype._should_scroll = function(lines) {\n",
       "    return false;\n",
       "}\n"
      ],
      "text/plain": [
       "<IPython.core.display.Javascript object>"
      ]
     },
     "metadata": {},
     "output_type": "display_data"
    }
   ],
   "source": [
    "%%javascript\n",
    "IPython.OutputArea.prototype._should_scroll = function(lines) {\n",
    "    return false;\n",
    "}"
   ]
  },
  {
   "cell_type": "code",
   "execution_count": 6,
   "id": "1f26e0e8",
   "metadata": {},
   "outputs": [
    {
     "name": "stdout",
     "output_type": "stream",
     "text": [
      "The autoreload extension is already loaded. To reload it, use:\n",
      "  %reload_ext autoreload\n",
      "The dotenv extension is already loaded. To reload it, use:\n",
      "  %reload_ext dotenv\n",
      "cannot find .env file\n"
     ]
    }
   ],
   "source": [
    "%load_ext autoreload\n",
    "%autoreload 2\n",
    "%load_ext dotenv\n",
    "%dotenv"
   ]
  },
  {
   "cell_type": "code",
   "execution_count": 7,
   "id": "b58ca2bd",
   "metadata": {},
   "outputs": [
    {
     "data": {
      "text/plain": [
       "'/home/data/ml-learning'"
      ]
     },
     "execution_count": 7,
     "metadata": {},
     "output_type": "execute_result"
    }
   ],
   "source": [
    "import sys\n",
    "import os\n",
    "from pathlib import Path\n",
    "cwd = str(os.path.dirname(os.getcwd()))\n",
    "parent = str(Path(os.getcwd()).parent.absolute())\n",
    "sys.path.append(os.path.dirname(os.getcwd()))\n",
    "sys.path.append(Path(os.getcwd()).parent.absolute())\n",
    "parent"
   ]
  },
  {
   "cell_type": "code",
   "execution_count": 30,
   "id": "b31a44b6",
   "metadata": {},
   "outputs": [
    {
     "name": "stdout",
     "output_type": "stream",
     "text": [
      "/home/data/ml-learning/MgennPy\n",
      "total 64K\n",
      "drwxrwxrwx 2 1000 1000 4.0K Nov  6 23:09 ApiClient\n",
      "-rwxrw-rw- 1 1000 1000 4.8K Nov  6 23:36 MgennPyEngine.py\n",
      "-rwxrw-rw- 1 1000 1000  666 Nov  6 23:00 MgennTools.py\n",
      "-rwxrw-rw- 1 1000 1000   38 Nov  6 23:09 README.md\n",
      "-rwxrw-rw- 1 1000 1000   73 Nov  6 23:09 __init__.py\n",
      "drwxrwxrwx 3 1000 1000 4.0K Nov 13 00:13 common\n",
      "drwxrwxrwx 3 1000 1000 4.0K Nov 12 23:51 mcore\n",
      "-rwxrw-rw- 1 1000 1000   54 Nov  4 23:37 mgenn.cfg\n",
      "-rwxrw-rw- 1 1000 1000 2.2K Nov  6 23:09 mgenn.py\n",
      "drwxrwxrwx 4 1000 1000 4.0K Nov 17 16:49 notebooks\n",
      "-rwxrw-rw- 1 1000 1000   70 Nov  4 23:37 requirements.txt\n",
      "-rwxrw-rw- 1 1000 1000  522 Nov  6 23:00 tester.py\n",
      "-rwxrw-rw- 1 1000 1000  262 Nov  4 23:37 tester.sh\n",
      "drwxrwxrwx 4 1000 1000 4.0K Nov 17 16:37 tests\n",
      "-rwxrw-rw- 1 1000 1000   65 Nov  7 01:30 utest.sh\n"
     ]
    }
   ],
   "source": [
    "!pwd\n",
    "!ls -lh $parent/MgennPy"
   ]
  },
  {
   "cell_type": "code",
   "execution_count": 31,
   "id": "a75a4693",
   "metadata": {},
   "outputs": [
    {
     "name": "stdout",
     "output_type": "stream",
     "text": [
      "/home/data/ml-learning/MgennPy\n",
      ".pkg ok\n",
      "E..............pkg ok\n",
      "load pkg ok\n",
      ".\n",
      "======================================================================\n",
      "ERROR: test_load_from_file (test_core.TestCore)\n",
      "----------------------------------------------------------------------\n",
      "Traceback (most recent call last):\n",
      "  File \"/home/data/ml-learning/MgennPy/tests/test_core.py\", line 18, in test_load_from_file\n",
      "    core.load(pkg)\n",
      "  File \"/home/data/ml-learning/MgennPy/mcore/core.py\", line 39, in load\n",
      "    link.deserialize(n)\n",
      "  File \"/home/data/ml-learning/MgennPy/mcore/link.py\", line 129, in deserialize\n",
      "    raise KeyError(f\"missed keys in {data.keys()}\")\n",
      "KeyError: \"missed keys in dict_keys(['currentEnergy', 'energyLeak', 'id', 'mode', 'peakEnergy', 'receivers'])\"\n",
      "\n",
      "----------------------------------------------------------------------\n",
      "Ran 17 tests in 0.006s\n",
      "\n",
      "FAILED (errors=1)\n"
     ]
    }
   ],
   "source": [
    "%cd $parent/MgennPy\n",
    "!/usr/bin/bash ./utest.sh "
   ]
  },
  {
   "cell_type": "code",
   "execution_count": null,
   "id": "a9c30b24",
   "metadata": {},
   "outputs": [],
   "source": []
  }
 ],
 "metadata": {
  "kernelspec": {
   "display_name": "Python 3",
   "language": "python",
   "name": "python3"
  },
  "language_info": {
   "codemirror_mode": {
    "name": "ipython",
    "version": 3
   },
   "file_extension": ".py",
   "mimetype": "text/x-python",
   "name": "python",
   "nbconvert_exporter": "python",
   "pygments_lexer": "ipython3",
   "version": "3.10.12"
  }
 },
 "nbformat": 4,
 "nbformat_minor": 5
}
