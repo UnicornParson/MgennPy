{
 "cells": [
  {
   "cell_type": "code",
   "execution_count": 1,
   "id": "93fbbb0a",
   "metadata": {},
   "outputs": [
    {
     "data": {
      "application/javascript": [
       "IPython.OutputArea.prototype._should_scroll = function(lines) {\n",
       "    return false;\n",
       "}\n"
      ],
      "text/plain": [
       "<IPython.core.display.Javascript object>"
      ]
     },
     "metadata": {},
     "output_type": "display_data"
    }
   ],
   "source": [
    "%%javascript\n",
    "IPython.OutputArea.prototype._should_scroll = function(lines) {\n",
    "    return false;\n",
    "}"
   ]
  },
  {
   "cell_type": "code",
   "execution_count": 2,
   "id": "1f26e0e8",
   "metadata": {},
   "outputs": [
    {
     "name": "stdout",
     "output_type": "stream",
     "text": [
      "cannot find .env file\n"
     ]
    }
   ],
   "source": [
    "%load_ext autoreload\n",
    "%autoreload 2\n",
    "%load_ext dotenv\n",
    "%dotenv"
   ]
  },
  {
   "cell_type": "code",
   "execution_count": 3,
   "id": "b58ca2bd",
   "metadata": {},
   "outputs": [
    {
     "data": {
      "text/plain": [
       "'/home/data/ml-learning/MgennPy'"
      ]
     },
     "execution_count": 3,
     "metadata": {},
     "output_type": "execute_result"
    }
   ],
   "source": [
    "import sys\n",
    "import os\n",
    "from pathlib import Path\n",
    "cwd = str(os.path.dirname(os.getcwd()))\n",
    "parent = str(Path(os.getcwd()).parent.absolute())\n",
    "sys.path.append(os.path.dirname(os.getcwd()))\n",
    "sys.path.append(Path(os.getcwd()).parent.absolute())\n",
    "parent"
   ]
  },
  {
   "cell_type": "code",
   "execution_count": 23,
   "id": "a75a4693",
   "metadata": {},
   "outputs": [
    {
     "name": "stdout",
     "output_type": "stream",
     "text": [
      "/home/data/ml-learning/MgennPy\n",
      ".........@ NEURON_IN : {\"tick\": 0, \"amp\": 0.2, \"from\": 0}\n",
      "@ NEURON_IN : {\"tick\": 1, \"amp\": 0.2, \"from\": 0}\n",
      "@ NEURON_IN : {\"tick\": 2, \"amp\": 0.2, \"from\": 0}\n",
      "@ NEURON_IN : {\"tick\": 3, \"amp\": 0.2, \"from\": 0}\n",
      "@ NEURON_IN : {\"tick\": 4, \"amp\": 0.2, \"from\": 0}\n",
      "@ NEURON_IN : {\"tick\": 5, \"amp\": 0.2, \"from\": 0}\n",
      "@ NEURON_IN : {\"tick\": 6, \"amp\": 0.2, \"from\": 0}\n",
      "@ NEURON_IN : {\"tick\": 7, \"amp\": 0.2, \"from\": 0}\n",
      "@ NEURON_IN : {\"tick\": 8, \"amp\": 0.2, \"from\": 0}\n",
      "@ NEURON_IN : {\"tick\": 9, \"amp\": 0.2, \"from\": 0}\n",
      "@ NEURON_IN : {\"tick\": 10, \"amp\": 0.2, \"from\": 0}\n",
      "@ NEURON_IN : {\"tick\": 11, \"amp\": 0.2, \"from\": 0}\n",
      "@ NEURON_IN : {\"tick\": 12, \"amp\": 0.2, \"from\": 0}\n",
      "@ NEURON_IN : {\"tick\": 13, \"amp\": 0.2, \"from\": 0}\n",
      "@ NEURON_IN : {\"tick\": 14, \"amp\": 0.2, \"from\": 0}\n",
      "@ NEURON_IN : {\"tick\": 15, \"amp\": 0.2, \"from\": 0}\n",
      "@ NEURON_IN : {\"tick\": 16, \"amp\": 0.2, \"from\": 0}\n",
      "@ NEURON_IN : {\"tick\": 17, \"amp\": 0.2, \"from\": 0}\n",
      "@ NEURON_IN : {\"tick\": 18, \"amp\": 0.2, \"from\": 0}\n",
      "@ NEURON_SHOT : {\"tick\": 18, \"amp\": 1.9999999999999993}\n",
      "@ NEURON_IN : {\"tick\": 19, \"amp\": 0.2, \"from\": 0}\n",
      "@ NEURON_IN : {\"tick\": 20, \"amp\": 0.2, \"from\": 0}\n",
      "@ NEURON_IN : {\"tick\": 21, \"amp\": 0.2, \"from\": 0}\n",
      "@ NEURON_IN : {\"tick\": 22, \"amp\": 0.2, \"from\": 0}\n",
      "@ NEURON_IN : {\"tick\": 23, \"amp\": 0.2, \"from\": 0}\n",
      "@ NEURON_IN : {\"tick\": 24, \"amp\": 0.2, \"from\": 0}\n",
      "@ NEURON_IN : {\"tick\": 25, \"amp\": 0.2, \"from\": 0}\n",
      "@ NEURON_IN : {\"tick\": 26, \"amp\": 0.2, \"from\": 0}\n",
      "@ NEURON_IN : {\"tick\": 27, \"amp\": 0.2, \"from\": 0}\n",
      "@ NEURON_IN : {\"tick\": 28, \"amp\": 0.2, \"from\": 0}\n",
      "@ NEURON_IN : {\"tick\": 29, \"amp\": 0.2, \"from\": 0}\n",
      "@ NEURON_IN : {\"tick\": 30, \"amp\": 0.2, \"from\": 0}\n",
      "@ NEURON_IN : {\"tick\": 31, \"amp\": 0.2, \"from\": 0}\n",
      "@ NEURON_IN : {\"tick\": 32, \"amp\": 0.2, \"from\": 0}\n",
      "@ NEURON_IN : {\"tick\": 33, \"amp\": 0.2, \"from\": 0}\n",
      "@ NEURON_IN : {\"tick\": 34, \"amp\": 0.2, \"from\": 0}\n",
      "@ NEURON_IN : {\"tick\": 35, \"amp\": 0.2, \"from\": 0}\n",
      "@ NEURON_IN : {\"tick\": 36, \"amp\": 0.2, \"from\": 0}\n",
      "@ NEURON_IN : {\"tick\": 37, \"amp\": 0.2, \"from\": 0}\n",
      "@ NEURON_SHOT : {\"tick\": 37, \"amp\": 1.9999999999999993}\n",
      "...\n",
      "----------------------------------------------------------------------\n",
      "Ran 12 tests in 0.002s\n",
      "\n",
      "OK\n"
     ]
    }
   ],
   "source": [
    "%cd $parent\n",
    "!/usr/bin/bash ./utest.sh "
   ]
  },
  {
   "cell_type": "code",
   "execution_count": null,
   "id": "b31a44b6",
   "metadata": {},
   "outputs": [],
   "source": []
  },
  {
   "cell_type": "code",
   "execution_count": null,
   "id": "264a2460",
   "metadata": {},
   "outputs": [],
   "source": []
  }
 ],
 "metadata": {
  "kernelspec": {
   "display_name": "Python 3",
   "language": "python",
   "name": "python3"
  },
  "language_info": {
   "codemirror_mode": {
    "name": "ipython",
    "version": 3
   },
   "file_extension": ".py",
   "mimetype": "text/x-python",
   "name": "python",
   "nbconvert_exporter": "python",
   "pygments_lexer": "ipython3",
   "version": "3.10.12"
  }
 },
 "nbformat": 4,
 "nbformat_minor": 5
}
