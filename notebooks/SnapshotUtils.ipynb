{
 "cells": [
  {
   "cell_type": "markdown",
   "id": "6778283a",
   "metadata": {
    "editable": true,
    "slideshow": {
     "slide_type": ""
    },
    "tags": []
   },
   "source": [
    "## Checkpoints\n",
    "- [ ] ``load -> save -> compare``\n",
    "- [ ] ``make pkg from scratch``\n",
    "- [ ] ``layers generator``"
   ]
  },
  {
   "cell_type": "code",
   "execution_count": 30,
   "id": "f7c9b874-1c2d-4bb6-b428-df626fcbfc27",
   "metadata": {
    "editable": true,
    "slideshow": {
     "slide_type": ""
    },
    "tags": []
   },
   "outputs": [
    {
     "name": "stdout",
     "output_type": "stream",
     "text": [
      "True\n"
     ]
    }
   ],
   "source": [
    "import os\n",
    "\n",
    "conda_env = bool(os.getenv('CONDA_DEFAULT_ENV')) or bool(os.getenv('CONDA_PYTHON_EXE'))  or bool(os.getenv('CONDA_DIR'))\n",
    "print(conda_env)"
   ]
  },
  {
   "cell_type": "code",
   "execution_count": null,
   "id": "7d6b29a5",
   "metadata": {},
   "outputs": [
    {
     "name": "stdout",
     "output_type": "stream",
     "text": [
      "Channels:\n",
      " - defaults\n",
      " - conda-forge\n",
      " - pytorch\n",
      " - nvidia\n",
      " - anaconda\n",
      "Platform: linux-64\n",
      "- llecting package metadata (repodata.json): - "
     ]
    },
    {
     "name": "stdout",
     "output_type": "stream",
     "text": [
      "Requirement already satisfied: tzdata>=2022.7 in /usr/local/lib/python3.10/dist-packages (from pandas<=2.2.2,>=2.1.0->graph-notebook) (2024.2)\n",
      "Requirement already satisfied: charset-normalizer<4,>=2 in /usr/local/lib/python3.10/dist-packages (from requests<=2.32.2,>=2.32.0->graph-notebook) (3.4.0)\n",
      "Requirement already satisfied: idna<4,>=2.5 in /usr/local/lib/python3.10/dist-packages (from requests<=2.32.2,>=2.32.0->graph-notebook) (3.10)\n",
      "Requirement already satisfied: certifi>=2017.4.17 in /usr/local/lib/python3.10/dist-packages (from requests<=2.32.2,>=2.32.0->graph-notebook) (2024.8.30)\n",
      "Requirement already satisfied: aiohappyeyeballs>=2.3.0 in /usr/local/lib/python3.10/dist-packages (from aiohttp<4.0.0,>=3.8.0->gremlinpython<=3.7.2,>=3.5.1->graph-notebook) (2.4.3)\n",
      "Requirement already satisfied: aiosignal>=1.1.2 in /usr/local/lib/python3.10/dist-packages (from aiohttp<4.0.0,>=3.8.0->gremlinpython<=3.7.2,>=3.5.1->graph-notebook) (1.3.1)\n",
      "Requirement already satisfied: attrs>=17.3.0 in /usr/local/lib/python3.10/dist-packages (from aiohttp<4.0.0,>=3.8.0->gremlinpython<=3.7.2,>=3.5.1->graph-notebook) (24.2.0)\n",
      "Requirement already satisfied: frozenlist>=1.1.1 in /usr/local/lib/python3.10/dist-packages (from aiohttp<4.0.0,>=3.8.0->gremlinpython<=3.7.2,>=3.5.1->graph-notebook) (1.5.0)\n",
      "Requirement already satisfied: multidict<7.0,>=4.5 in /usr/local/lib/python3.10/dist-packages (from aiohttp<4.0.0,>=3.8.0->gremlinpython<=3.7.2,>=3.5.1->graph-notebook) (6.1.0)\n",
      "Requirement already satisfied: propcache>=0.2.0 in /usr/local/lib/python3.10/dist-packages (from aiohttp<4.0.0,>=3.8.0->gremlinpython<=3.7.2,>=3.5.1->graph-notebook) (0.2.0)\n",
      "Requirement already satisfied: yarl<2.0,>=1.17.0 in /usr/local/lib/python3.10/dist-packages (from aiohttp<4.0.0,>=3.8.0->gremlinpython<=3.7.2,>=3.5.1->graph-notebook) (1.17.1)\n",
      "Requirement already satisfied: entrypoints in /usr/local/lib/python3.10/dist-packages (from jupyter-client->ipykernel==5.3.4->graph-notebook) (0.4)\n",
      "Requirement already satisfied: setuptools in /usr/lib/python3/dist-packages (from jupyter-contrib-core>=0.3.3->jupyter-contrib-nbextensions<=0.7.0->graph-notebook) (59.6.0)\n",
      "Requirement already satisfied: platformdirs>=2.5 in /usr/local/lib/python3.10/dist-packages (from jupyter-core->jupyter-contrib-nbextensions<=0.7.0->graph-notebook) (4.3.6)\n",
      "Requirement already satisfied: jupyter-server in /usr/local/lib/python3.10/dist-packages (from jupyter-nbextensions-configurator>=0.4.0->jupyter-contrib-nbextensions<=0.7.0->graph-notebook) (1.24.0)\n",
      "Requirement already satisfied: pyyaml in /usr/local/lib/python3.10/dist-packages (from jupyter-nbextensions-configurator>=0.4.0->jupyter-contrib-nbextensions<=0.7.0->graph-notebook) (6.0.2)\n",
      "Requirement already satisfied: notebook-shim>=0.2.3 in /usr/local/lib/python3.10/dist-packages (from nbclassic>=0.4.7->notebook<7.0.0,>=6.1.5->graph-notebook) (0.2.4)\n",
      "Requirement already satisfied: fastjsonschema>=2.15 in /usr/local/lib/python3.10/dist-packages (from nbformat>=5.1->nbclient<=0.7.3->graph-notebook) (2.20.0)\n",
      "Requirement already satisfied: jsonschema>=2.6 in /usr/local/lib/python3.10/dist-packages (from nbformat>=5.1->nbclient<=0.7.3->graph-notebook) (4.23.0)\n",
      "Requirement already satisfied: ptyprocess>=0.5 in /usr/local/lib/python3.10/dist-packages (from pexpect>4.3->ipython<=8.10.0,>=7.16.1->graph-notebook) (0.7.0)\n",
      "Requirement already satisfied: wcwidth in /usr/local/lib/python3.10/dist-packages (from prompt-toolkit<3.1.0,>=3.0.30->ipython<=8.10.0,>=7.16.1->graph-notebook) (0.2.13)\n",
      "Requirement already satisfied: argon2-cffi-bindings in /usr/local/lib/python3.10/dist-packages (from argon2-cffi->notebook<7.0.0,>=6.1.5->graph-notebook) (21.2.0)\n",
      "Requirement already satisfied: soupsieve>1.2 in /usr/local/lib/python3.10/dist-packages (from beautifulsoup4->nbconvert<=7.2.8,>=6.3.0->graph-notebook) (2.6)\n",
      "Requirement already satisfied: webencodings in /usr/local/lib/python3.10/dist-packages (from bleach->nbconvert<=7.2.8,>=6.3.0->graph-notebook) (0.5.1)\n",
      "Requirement already satisfied: qtpy>=2.4.0 in /usr/local/lib/python3.10/dist-packages (from qtconsole->jupyter==1.0.0->graph-notebook) (2.4.2)\n",
      "Requirement already satisfied: executing>=1.2.0 in /usr/local/lib/python3.10/dist-packages (from stack-data->ipython<=8.10.0,>=7.16.1->graph-notebook) (2.1.0)\n",
      "Requirement already satisfied: asttokens>=2.1.0 in /usr/local/lib/python3.10/dist-packages (from stack-data->ipython<=8.10.0,>=7.16.1->graph-notebook) (2.4.1)\n",
      "Requirement already satisfied: pure-eval in /usr/local/lib/python3.10/dist-packages (from stack-data->ipython<=8.10.0,>=7.16.1->graph-notebook) (0.2.3)\n",
      "Requirement already satisfied: jsonschema-specifications>=2023.03.6 in /usr/local/lib/python3.10/dist-packages (from jsonschema>=2.6->nbformat>=5.1->nbclient<=0.7.3->graph-notebook) (2024.10.1)\n",
      "Requirement already satisfied: referencing>=0.28.4 in /usr/local/lib/python3.10/dist-packages (from jsonschema>=2.6->nbformat>=5.1->nbclient<=0.7.3->graph-notebook) (0.35.1)\n",
      "Requirement already satisfied: rpds-py>=0.7.1 in /usr/local/lib/python3.10/dist-packages (from jsonschema>=2.6->nbformat>=5.1->nbclient<=0.7.3->graph-notebook) (0.21.0)\n",
      "Requirement already satisfied: typing-extensions>=4.1.0 in /usr/local/lib/python3.10/dist-packages (from multidict<7.0,>=4.5->aiohttp<4.0.0,>=3.8.0->gremlinpython<=3.7.2,>=3.5.1->graph-notebook) (4.12.2)\n",
      "Requirement already satisfied: anyio<4,>=3.1.0 in /usr/local/lib/python3.10/dist-packages (from jupyter-server->jupyter-nbextensions-configurator>=0.4.0->jupyter-contrib-nbextensions<=0.7.0->graph-notebook) (3.7.1)\n",
      "Requirement already satisfied: websocket-client in /usr/local/lib/python3.10/dist-packages (from jupyter-server->jupyter-nbextensions-configurator>=0.4.0->jupyter-contrib-nbextensions<=0.7.0->graph-notebook) (1.8.0)\n",
      "Requirement already satisfied: cffi>=1.0.1 in /usr/local/lib/python3.10/dist-packages (from argon2-cffi-bindings->argon2-cffi->notebook<7.0.0,>=6.1.5->graph-notebook) (1.17.1)\n",
      "Requirement already satisfied: sniffio>=1.1 in /usr/local/lib/python3.10/dist-packages (from anyio<4,>=3.1.0->jupyter-server->jupyter-nbextensions-configurator>=0.4.0->jupyter-contrib-nbextensions<=0.7.0->graph-notebook) (1.3.1)\n",
      "Requirement already satisfied: exceptiongroup in /usr/local/lib/python3.10/dist-packages (from anyio<4,>=3.1.0->jupyter-server->jupyter-nbextensions-configurator>=0.4.0->jupyter-contrib-nbextensions<=0.7.0->graph-notebook) (1.2.2)\n",
      "Requirement already satisfied: pycparser in /usr/local/lib/python3.10/dist-packages (from cffi>=1.0.1->argon2-cffi-bindings->argon2-cffi->notebook<7.0.0,>=6.1.5->graph-notebook) (2.22)\n",
      "\u001b[33mWARNING: Running pip as the 'root' user can result in broken permissions and conflicting behaviour with the system package manager, possibly rendering your system unusable.It is recommended to use a virtual environment instead: https://pip.pypa.io/warnings/venv. Use the --root-user-action option if you know what you are doing and want to suppress this warning.\u001b[0m\u001b[33m\n",
      "\u001b[0mRequirement already satisfied: graphviz in /usr/local/lib/python3.10/dist-packages (0.20.3)\n",
      "\u001b[33mWARNING: Running pip as the 'root' user can result in broken permissions and conflicting behaviour with the system package manager, possibly rendering your system unusable.It is recommended to use a virtual environment instead: https://pip.pypa.io/warnings/venv. Use the --root-user-action option if you know what you are doing and want to suppress this warning.\u001b[0m\u001b[33m\n",
      "\u001b[0mRequirement already satisfied: pydot in /usr/local/lib/python3.10/dist-packages (3.0.2)\n",
      "Requirement already satisfied: pyparsing>=3.0.9 in /usr/local/lib/python3.10/dist-packages (from pydot) (3.2.0)\n",
      "\u001b[33mWARNING: Running pip as the 'root' user can result in broken permissions and conflicting behaviour with the system package manager, possibly rendering your system unusable.It is recommended to use a virtual environment instead: https://pip.pypa.io/warnings/venv. Use the --root-user-action option if you know what you are doing and want to suppress this warning.\u001b[0m\u001b[33m\n",
      "\u001b[0mRequirement already satisfied: networkx in /usr/local/lib/python3.10/dist-packages (2.4)\n",
      "Requirement already satisfied: decorator>=4.3.0 in /usr/local/lib/python3.10/dist-packages (from networkx) (5.1.1)\n"
     ]
    },
    {
     "name": "stdout",
     "output_type": "stream",
     "text": [
      "\u001b[33mWARNING: Running pip as the 'root' user can result in broken permissions and conflicting behaviour with the system package manager, possibly rendering your system unusable.It is recommended to use a virtual environment instead: https://pip.pypa.io/warnings/venv. Use the --root-user-action option if you know what you are doing and want to suppress this warning.\u001b[0m\u001b[33m\n",
      "\u001b[0mRequirement already satisfied: pyvis in /usr/local/lib/python3.10/dist-packages (0.3.2)\n",
      "Requirement already satisfied: ipython>=5.3.0 in /usr/local/lib/python3.10/dist-packages (from pyvis) (8.10.0)\n",
      "Requirement already satisfied: jinja2>=2.9.6 in /usr/local/lib/python3.10/dist-packages (from pyvis) (3.1.4)\n",
      "Requirement already satisfied: jsonpickle>=1.4.1 in /usr/local/lib/python3.10/dist-packages (from pyvis) (4.0.1)\n",
      "Requirement already satisfied: networkx>=1.11 in /usr/local/lib/python3.10/dist-packages (from pyvis) (2.4)\n",
      "Requirement already satisfied: backcall in /usr/local/lib/python3.10/dist-packages (from ipython>=5.3.0->pyvis) (0.2.0)\n",
      "Requirement already satisfied: decorator in /usr/local/lib/python3.10/dist-packages (from ipython>=5.3.0->pyvis) (5.1.1)\n",
      "Requirement already satisfied: jedi>=0.16 in /usr/local/lib/python3.10/dist-packages (from ipython>=5.3.0->pyvis) (0.18.2)\n",
      "Requirement already satisfied: matplotlib-inline in /usr/local/lib/python3.10/dist-packages (from ipython>=5.3.0->pyvis) (0.1.7)\n",
      "Requirement already satisfied: pickleshare in /usr/local/lib/python3.10/dist-packages (from ipython>=5.3.0->pyvis) (0.7.5)\n",
      "Requirement already satisfied: prompt-toolkit<3.1.0,>=3.0.30 in /usr/local/lib/python3.10/dist-packages (from ipython>=5.3.0->pyvis) (3.0.48)\n",
      "Requirement already satisfied: pygments>=2.4.0 in /usr/local/lib/python3.10/dist-packages (from ipython>=5.3.0->pyvis) (2.18.0)\n",
      "Requirement already satisfied: stack-data in /usr/local/lib/python3.10/dist-packages (from ipython>=5.3.0->pyvis) (0.6.3)\n",
      "Requirement already satisfied: traitlets>=5 in /usr/local/lib/python3.10/dist-packages (from ipython>=5.3.0->pyvis) (5.14.3)\n",
      "Requirement already satisfied: pexpect>4.3 in /usr/local/lib/python3.10/dist-packages (from ipython>=5.3.0->pyvis) (4.9.0)\n",
      "Requirement already satisfied: MarkupSafe>=2.0 in /usr/local/lib/python3.10/dist-packages (from jinja2>=2.9.6->pyvis) (3.0.2)\n",
      "Requirement already satisfied: parso<0.9.0,>=0.8.0 in /usr/local/lib/python3.10/dist-packages (from jedi>=0.16->ipython>=5.3.0->pyvis) (0.8.4)\n",
      "Requirement already satisfied: ptyprocess>=0.5 in /usr/local/lib/python3.10/dist-packages (from pexpect>4.3->ipython>=5.3.0->pyvis) (0.7.0)\n",
      "Requirement already satisfied: wcwidth in /usr/local/lib/python3.10/dist-packages (from prompt-toolkit<3.1.0,>=3.0.30->ipython>=5.3.0->pyvis) (0.2.13)\n",
      "Requirement already satisfied: executing>=1.2.0 in /usr/local/lib/python3.10/dist-packages (from stack-data->ipython>=5.3.0->pyvis) (2.1.0)\n",
      "Requirement already satisfied: asttokens>=2.1.0 in /usr/local/lib/python3.10/dist-packages (from stack-data->ipython>=5.3.0->pyvis) (2.4.1)\n",
      "Requirement already satisfied: pure-eval in /usr/local/lib/python3.10/dist-packages (from stack-data->ipython>=5.3.0->pyvis) (0.2.3)\n",
      "Requirement already satisfied: six>=1.12.0 in /usr/lib/python3/dist-packages (from asttokens>=2.1.0->stack-data->ipython>=5.3.0->pyvis) (1.16.0)\n",
      "\u001b[33mWARNING: Running pip as the 'root' user can result in broken permissions and conflicting behaviour with the system package manager, possibly rendering your system unusable.It is recommended to use a virtual environment instead: https://pip.pypa.io/warnings/venv. Use the --root-user-action option if you know what you are doing and want to suppress this warning.\u001b[0m\u001b[33m\n",
      "\u001b[0m\u001b[31mERROR: Could not find a version that satisfies the requirement platform (from versions: none)\u001b[0m\u001b[31m\n",
      "\u001b[0m\u001b[31mERROR: No matching distribution found for platform\u001b[0m\u001b[31m\n",
      "\u001b[0m\u001b[31mERROR: Ignored the following yanked versions: 20081119\u001b[0m\u001b[31m\n",
      "\u001b[0m\u001b[31mERROR: Could not find a version that satisfies the requirement hashlib (from versions: none)\u001b[0m\u001b[31m\n",
      "\u001b[0m\u001b[31mERROR: No matching distribution found for hashlib\u001b[0m\u001b[31m\n",
      "\u001b[0mRequirement already satisfied: jycm in /usr/local/lib/python3.10/dist-packages (1.5.0)\n",
      "Requirement already satisfied: click>=8.0.0 in /usr/local/lib/python3.10/dist-packages (from jycm) (8.1.8)\n",
      "Requirement already satisfied: numpy in /usr/local/lib/python3.10/dist-packages (from jycm) (1.23.5)\n",
      "Requirement already satisfied: six<2.0.0,>=1.11.0 in /usr/lib/python3/dist-packages (from jycm) (1.16.0)\n",
      "\u001b[33mWARNING: Running pip as the 'root' user can result in broken permissions and conflicting behaviour with the system package manager, possibly rendering your system unusable.It is recommended to use a virtual environment instead: https://pip.pypa.io/warnings/venv. Use the --root-user-action option if you know what you are doing and want to suppress this warning.\u001b[0m\u001b[33m\n",
      "\u001b[0mRequirement already satisfied: pipreqs in /usr/local/lib/python3.10/dist-packages (0.4.13)\n",
      "Requirement already satisfied: docopt in /usr/local/lib/python3.10/dist-packages (from pipreqs) (0.6.2)\n",
      "Requirement already satisfied: yarg in /usr/local/lib/python3.10/dist-packages (from pipreqs) (0.1.10)\n",
      "Requirement already satisfied: requests in /usr/local/lib/python3.10/dist-packages (from yarg->pipreqs) (2.32.2)\n",
      "Requirement already satisfied: charset-normalizer<4,>=2 in /usr/local/lib/python3.10/dist-packages (from requests->yarg->pipreqs) (3.4.0)\n",
      "Requirement already satisfied: idna<4,>=2.5 in /usr/local/lib/python3.10/dist-packages (from requests->yarg->pipreqs) (3.10)\n",
      "Requirement already satisfied: urllib3<3,>=1.21.1 in /usr/local/lib/python3.10/dist-packages (from requests->yarg->pipreqs) (1.26.20)\n",
      "Requirement already satisfied: certifi>=2017.4.17 in /usr/local/lib/python3.10/dist-packages (from requests->yarg->pipreqs) (2024.8.30)\n",
      "\u001b[33mWARNING: Running pip as the 'root' user can result in broken permissions and conflicting behaviour with the system package manager, possibly rendering your system unusable.It is recommended to use a virtual environment instead: https://pip.pypa.io/warnings/venv. Use the --root-user-action option if you know what you are doing and want to suppress this warning.\u001b[0m\u001b[33m\n",
      "\u001b[0mThe line_profiler extension is already loaded. To reload it, use:\n",
      "  %reload_ext line_profiler\n"
     ]
    }
   ],
   "source": [
    "upgrade_py = True\n",
    "if upgrade_py:\n",
    "    if conda_env:\n",
    "        !conda install -y python-dotenv\n",
    "    else:\n",
    "        !python3.10 -m pip install --upgrade pip\n",
    "        !pip install graph-notebook\n",
    "        !pip install graphviz\n",
    "        !pip install pydot\n",
    "        !pip install networkx\n",
    "        !pip install pyvis\n",
    "        !pip install platform\n",
    "        !pip install hashlib\n",
    "        !pip install jycm\n",
    "        !pip install pipreqs\n",
    "%load_ext line_profiler"
   ]
  },
  {
   "cell_type": "code",
   "execution_count": null,
   "id": "da047756",
   "metadata": {},
   "outputs": [],
   "source": [
    "%load_ext autoreload\n",
    "%autoreload 2\n",
    "%load_ext dotenv\n",
    "%dotenv"
   ]
  },
  {
   "cell_type": "code",
   "execution_count": null,
   "id": "27115a0b",
   "metadata": {
    "editable": true,
    "slideshow": {
     "slide_type": ""
    },
    "tags": []
   },
   "outputs": [],
   "source": [
    "import os\n",
    "import sys\n",
    "import matplotlib.pyplot as plt\n",
    "import networkx as nx\n",
    "import json\n",
    "import pprint\n",
    "import numpy as np\n",
    "import pandas as pd\n",
    "import time\n",
    "import platform\n",
    "import hashlib\n",
    "from enum import Enum\n",
    "from pyvis.network import Network\n",
    "from IPython.display import display, HTML\n",
    "import copy\n",
    "import tqdm\n",
    "from jycm.jycm import YouchamaJsonDiffer\n",
    "from IPython.display import JSON\n",
    "from IPython.display import Markdown\n",
    "\n",
    "from pathlib import Path\n",
    "os.environ[\"MGENN_DEBUG\"] = \"Y\"\n"
   ]
  },
  {
   "cell_type": "code",
   "execution_count": null,
   "id": "b39c0311",
   "metadata": {},
   "outputs": [],
   "source": [
    "sys.path.append(os.path.dirname(os.getcwd()))\n",
    "sys.path.append(Path(os.getcwd()).parent.absolute())\n",
    "\n",
    "import mcore as mc\n",
    "\n",
    "from common import *"
   ]
  },
  {
   "cell_type": "code",
   "execution_count": null,
   "id": "1df3d4e0",
   "metadata": {},
   "outputs": [],
   "source": [
    "pkg = mc.Package()\n",
    "pkg.loadFile('data/namespacetest_rev0.pkg')\n",
    "pkg.counts()\n"
   ]
  },
  {
   "cell_type": "code",
   "execution_count": null,
   "id": "2812d0d0",
   "metadata": {},
   "outputs": [],
   "source": [
    "def showGraph(pkg):\n",
    "    #net = Network(height=\"750px\", width=\"100%\", bgcolor=\"#222222\", font_color=\"white\")\n",
    "    nt = Network(height=\"750px\", width=\"100%\", bgcolor=\"#222222\", font_color=\"white\", notebook=True, directed =True)\n",
    "\n",
    "    ZH = \"ZERO_HOLE\"\n",
    "    def hasNode(nodes, key)->bool:\n",
    "        for node in nx_graph.nodes:\n",
    "            if str(node) == str(key):\n",
    "                return True\n",
    "        return False\n",
    "    nx_graph = nx.DiGraph()\n",
    "\n",
    "    for n in pkg.neurons:\n",
    "        nx_graph.add_node(str(n[\"id\"]), size = 10 + int(float(n[\"currentEnergy\"])), title=('neuron %d' % n[\"id\"]), group=1)\n",
    "    for o in pkg.outputs:\n",
    "        nx_graph.add_node(str(o[\"id\"]), size = 10, title=('outputs %d' % n[\"id\"]), group=2)\n",
    "    for i in pkg.inputs:\n",
    "        nx_graph.add_node(str(i[\"name\"]), size = 5, title=('input %s' % i[\"name\"]), group=3)\n",
    "\n",
    "    #make direct links\n",
    "    nx_graph.add_node(str(ZH), size = 1, title=(\"missed node\"), group=1)\n",
    "    l = pkg.links[1]\n",
    "    start, stop = pkg.linkEnds(l)\n",
    "    #print(\"link \", start, \" to \" , stop)\n",
    "    #nx_graph.add_edge(str(start), str(stop))\n",
    "\n",
    "    for l in pkg.links:\n",
    "        print(l)\n",
    "        start, stop = pkg.linkEnds(l)\n",
    "        link_len = int(l['length'])\n",
    "        print(\"link \", start, \" to \" , str(stop), \" sz:\", link_len)\n",
    "        if not start:\n",
    "            continue\n",
    "            nx_graph.add_edge(ZH, stop, length = (link_len + 1), weight=(link_len + 1))\n",
    "        if not hasNode(nx_graph.nodes, str(stop)):\n",
    "            continue\n",
    "            nx_graph.add_edge(ZH, stop, value = (link_len + 1), weight=(link_len + 1))\n",
    "        nx_graph.add_edge(str(start), str(stop), length = (link_len + 1), weight=(link_len + 1) )\n",
    "\n",
    "    for n in pkg.neurons:\n",
    "        for rc in n['receivers']:\n",
    "            if not pkg.isLink(rc):\n",
    "                nx_graph.add_edge(str(n[\"id\"]), str(rc), length = 1, weight = 1)\n",
    "    nt.from_nx(nx_graph)\n",
    "    return nt.show('nx.html')"
   ]
  },
  {
   "cell_type": "code",
   "execution_count": null,
   "id": "82deb882",
   "metadata": {},
   "outputs": [],
   "source": [
    "showGraph(pkg)"
   ]
  },
  {
   "cell_type": "markdown",
   "id": "aa6410b6",
   "metadata": {},
   "source": [
    "## low-level generators"
   ]
  },
  {
   "cell_type": "code",
   "execution_count": null,
   "id": "2fe51d2b",
   "metadata": {},
   "outputs": [],
   "source": [
    "\n",
    "\n",
    "p = pkg.clone()\n",
    "n1 = ObjectFactory.makeNeuronData(peak = 10.0, receivers = [], leak = 0.1, currentEnergy = 3.0, id = p.nextId())\n",
    "p.neurons.append(n1)\n",
    "p.connect(n1[\"id\"], 64)\n",
    "p.connect(n1[\"id\"], 65)\n",
    "p.connect(n1[\"id\"], 69)\n",
    "g = showGraph(p)\n",
    "print(\"new object\",n1[\"id\"])\n",
    "g\n",
    "pkg = None"
   ]
  },
  {
   "cell_type": "markdown",
   "id": "438f314b",
   "metadata": {},
   "source": [
    "## high-level generators"
   ]
  },
  {
   "cell_type": "code",
   "execution_count": null,
   "id": "38a416f0",
   "metadata": {},
   "outputs": [],
   "source": [
    "pkg = mc.Package.make_empty()\n",
    "n1 = pkg.new_neuron(leak=1.0, peak=5.0, receivers=[])\n",
    "i1 = pkg.new_tape_input(\"i1\", [])\n",
    "o1 = pkg.new_output(\"o1\")\n",
    "\n",
    "l1 = pkg.new_link_between(apt=0.0, length=1, src=i1, dst=n1)\n",
    "l2 = pkg.new_link_between(apt=0.0, length=1, src=n1, dst=o1)\n",
    "print(f\"i_{i1} --[{l1}]-> N_{n1} --[{l2}]-> o_{o1}\")\n",
    "showGraph(pkg)"
   ]
  },
  {
   "cell_type": "markdown",
   "id": "633f3be0-9e87-45d4-b02f-d0ee2fe68df5",
   "metadata": {},
   "source": [
    "# simple network"
   ]
  },
  {
   "cell_type": "code",
   "execution_count": null,
   "id": "5c84a676",
   "metadata": {},
   "outputs": [
    {
     "name": "stdout",
     "output_type": "stream",
     "text": [
      "[2024-12-27 15:36:49]in[__process_autoinputs.153] autoinputs made 0 new events\n",
      "[2024-12-27 15:36:49]in[dprint.58] TapeInputsRow h[1], d[s1.dim1]\n",
      "[2024-12-27 15:36:49]in[makeEvents.115] proces point [i1] : ([3], {})\n",
      "[2024-12-27 15:36:49]in[dprint.58] TapeInputsRow h[1], d[s1.dim1]\n",
      "[2024-12-27 15:36:49]in[__process_tapes.160] tape container made 1 new events\n",
      "[2024-12-27 15:36:49]in[__on_e_changed.85] N[1] changed 2.0 --> 1.0 in [onTick.82]\n",
      "[2024-12-27 15:36:49]in[onRobotsEvent.31] @ Link.3.bfc4c7ec7e14ef53 LINK_APPLY_EVENT : {'tick': 10, 'amp': 3.0, 'from': 'i1'}\n",
      "[2024-12-27 15:36:49]in[__process_content.166] active content (4 objects) made 1 new events\n",
      "[2024-12-27 15:36:49]in[__process_events.177] process p.event i1->Link_3 amp:0\n",
      "[2024-12-27 15:36:49]in[onRobotsEvent.31] @ Link.3.764e00faf6fb076a LINK_IGNORE_SIGNAL : {'tick': 10, 'amp': 0, 'from': 'i1'}\n",
      "[2024-12-27 15:36:49]in[__process_events.177] process p.event 3->Neuron_1 amp:3.0\n",
      "[2024-12-27 15:36:49]in[onRobotsEvent.31] @ Neuron.1.6d86e430c6ef0645 NEURON_IN : {'tick': 10, 'amp': 3.0, 'from': 3}\n",
      "[2024-12-27 15:36:49]in[__on_e_changed.85] N[1] changed 1.0 --> 4.0 in [onSignal.90]\n",
      "[2024-12-27 15:36:49]in[dprint.58] TapeInputsRow h[1], d[s1.dim1]\n",
      "[2024-12-27 15:36:49]in[dprint.58] TapeInputsRow h[1], d[s1.dim1]\n",
      "[2024-12-27 15:36:49]in[__process_autoinputs.153] autoinputs made 0 new events\n",
      "[2024-12-27 15:36:49]in[dprint.58] TapeInputsRow h[1], d[s1.dim1]\n",
      "[2024-12-27 15:36:49]in[makeEvents.115] proces point [i1] : ([3], {})\n",
      "[2024-12-27 15:36:49]in[dprint.58] TapeInputsRow h[1], d[s1.dim1]\n",
      "[2024-12-27 15:36:49]in[__process_tapes.160] tape container made 1 new events\n",
      "[2024-12-27 15:36:49]in[__on_e_changed.85] N[1] changed 4.0 --> 3.0 in [onTick.82]\n",
      "[2024-12-27 15:36:49]in[__process_content.166] active content (4 objects) made 0 new events\n",
      "[2024-12-27 15:36:49]in[__process_events.177] process p.event i1->Link_3 amp:3\n",
      "[2024-12-27 15:36:49]in[dprint.58] TapeInputsRow h[1], d[s1.dim1]\n",
      "[2024-12-27 15:36:49]in[dprint.58] TapeInputsRow h[1], d[s1.dim1]\n",
      "[2024-12-27 15:36:49]in[__process_autoinputs.153] autoinputs made 0 new events\n",
      "[2024-12-27 15:36:49]in[dprint.58] TapeInputsRow h[1], d[s1.dim1]\n",
      "[2024-12-27 15:36:49]in[makeEvents.115] proces point [i1] : ([3], {})\n",
      "[2024-12-27 15:36:49]in[dprint.58] TapeInputsRow h[1], d[s1.dim1]\n",
      "[2024-12-27 15:36:49]in[__process_tapes.160] tape container made 1 new events\n",
      "[2024-12-27 15:36:49]in[__on_e_changed.85] N[1] changed 3.0 --> 2.0 in [onTick.82]\n",
      "[2024-12-27 15:36:49]in[onRobotsEvent.31] @ Link.3.8f732cbc0261cd9f LINK_APPLY_EVENT : {'tick': 12, 'amp': 3.0, 'from': 'i1'}\n",
      "[2024-12-27 15:36:49]in[__process_content.166] active content (4 objects) made 1 new events\n",
      "[2024-12-27 15:36:49]in[__process_events.177] process p.event i1->Link_3 amp:0\n",
      "[2024-12-27 15:36:49]in[onRobotsEvent.31] @ Link.3.764e00faf6fb076a LINK_IGNORE_SIGNAL : {'tick': 12, 'amp': 0, 'from': 'i1'}\n",
      "[2024-12-27 15:36:49]in[__process_events.177] process p.event 3->Neuron_1 amp:3.0\n",
      "[2024-12-27 15:36:49]in[onRobotsEvent.31] @ Neuron.1.2ecf8d88365085f8 NEURON_IN : {'tick': 12, 'amp': 3.0, 'from': 3}\n",
      "[2024-12-27 15:36:49]in[__on_e_changed.85] N[1] changed 2.0 --> 5.0 in [onSignal.90]\n"
     ]
    }
   ],
   "source": [
    "F.make_quiet()\n",
    "pkg = mc.Package.make_empty()\n",
    "n1 = pkg.new_neuron(leak=1.0, peak=5.0, receivers=[])\n",
    "i1 = pkg.new_tape_input(\"i1\", [])\n",
    "o1 = pkg.new_output(\"o1\")\n",
    "\n",
    "l1 = pkg.new_link_between(apt=0.0, length=1, src=i1, dst=n1)\n",
    "l2 = pkg.new_link_between(apt=0.0, length=1, src=n1, dst=o1)\n",
    "ce = mc.Engine()\n",
    "ce.core = mc.Core()\n",
    "ce.core.load(pkg)\n",
    "ce.tick_offset = 0\n",
    "\n",
    "df_expected = pd.DataFrame([0.0]*7 + [5.0] + [0.0]*4, columns=['o1_exp'])\n",
    "df_in = pd.DataFrame([3,0] * 6, columns=['i1'])\n",
    "out = [0] * 9 + [5, 0]\n",
    "ticks = 12\n",
    "df_out = pd.DataFrame()\n",
    "for t in range(ticks):\n",
    "    df_out = pd.concat([df_out, ce.run_once(df_in)], ignore_index=True)\n",
    "\n"
   ]
  },
  {
   "cell_type": "code",
   "execution_count": null,
   "id": "e59bd3f6",
   "metadata": {},
   "outputs": [],
   "source": [
    "io = pd.concat([df_in, df_out, df_expected], axis=1)\n",
    "io['error'] = io['o1'].astype(float) - io['o1_exp'].astype(float)\n",
    "io"
   ]
  },
  {
   "cell_type": "markdown",
   "id": "f3269a7c-0b35-4cd4-bd16-e301e7611404",
   "metadata": {
    "editable": true,
    "slideshow": {
     "slide_type": ""
    },
    "tags": []
   },
   "source": [
    "# Worm with breakpoints\n",
    "## make worm"
   ]
  },
  {
   "cell_type": "code",
   "execution_count": null,
   "id": "cf5f9f4e",
   "metadata": {},
   "outputs": [],
   "source": [
    "F.make_quiet()\n",
    "#F.make_verbose()\n",
    "pkg = mc.Package.make_empty()\n",
    "o_end = pkg.new_output(\"o_end\")\n",
    "w_size = 10\n",
    "last_o = o_end\n",
    "last_n = None\n",
    "ns = []\n",
    "for i in range(w_size):\n",
    "    ni = pkg.new_neuron(leak=0.0, peak=5.0, receivers=[])\n",
    "    pkg.new_link_between(apt=0.0, length=1, src=ni, dst=last_o)\n",
    "    last_o = pkg.new_output(f\"o_end-{i}\")\n",
    "    ns.append(ni)\n",
    "    if last_n:\n",
    "        pkg.new_link_between(apt=1.0, length=1, src=ni, dst=last_n)\n",
    "    last_n = ni\n",
    "i1 = pkg.new_tape_input(\"i1\", [])\n",
    "pkg.new_link_between(apt=0.0, length=1, src=i1, dst=last_n)\n",
    "showGraph(pkg)\n"
   ]
  },
  {
   "cell_type": "markdown",
   "id": "f6f9ec5c-4bc4-4cae-ac8b-1d66f5d61480",
   "metadata": {},
   "source": [
    "## run worm"
   ]
  },
  {
   "cell_type": "code",
   "execution_count": null,
   "id": "a0a7f5b7-17c1-4ea5-b3c4-e44340c59631",
   "metadata": {},
   "outputs": [],
   "source": [
    "\n",
    "ce = None\n",
    "dirty_pkg = pkg.clone()\n",
    "ce = mc.Engine()\n",
    "ce.core = mc.Core()\n",
    "ce.core.load(dirty_pkg)\n",
    "ce.tick_offset = 0\n",
    "ticks = 200\n",
    "df_expected = pd.DataFrame([1.0]*(20) + [0.0]*(ticks-20), columns=['o_end'])\n",
    "df_in = pd.DataFrame([1.0]*(20) + [0.0]*(ticks-20), columns=['i1'])\n",
    "total_energy = []\n",
    "\n",
    "df_out = pd.DataFrame()\n",
    "for t in tqdm.tqdm(range(ticks)):\n",
    "    df_out = pd.concat([df_out, ce.run_once(df_in)], ignore_index=True)\n",
    "    dpkg = ce.core.dump()\n",
    "    energy = dpkg.total_energy()\n",
    "    total_energy.append(energy)\n",
    "e_df = pd.DataFrame(total_energy, columns=[\"E\"])\n",
    "ax = e_df.plot(kind='line', title='total E', grid='on')\n",
    "plt.xlabel('tick')\n",
    "plt.ylabel('Energy')\n",
    "plt.show()\n",
    "\n",
    "\n",
    "\n",
    "## bars output\n",
    "ax = df_out.plot(kind='bar', title='Outputs B', grid='on')\n",
    "plt.xlabel('tick')\n",
    "plt.ylabel('Energy')\n",
    "plt.show()\n",
    "\n",
    "#line output\n",
    "ax = df_out.plot(kind='line', title='Outputs L', grid='on')\n",
    "plt.xlabel('tick')\n",
    "plt.ylabel('Energy')\n",
    "plt.show()"
   ]
  },
  {
   "cell_type": "code",
   "execution_count": null,
   "id": "8520e7d1-58f4-40ef-a66f-a92b1451fb86",
   "metadata": {
    "editable": true,
    "slideshow": {
     "slide_type": ""
    },
    "tags": []
   },
   "outputs": [],
   "source": [
    "df_out"
   ]
  },
  {
   "cell_type": "code",
   "execution_count": null,
   "id": "c6c03e58-cda5-4b88-98f0-11d031204d99",
   "metadata": {},
   "outputs": [],
   "source": []
  }
 ],
 "metadata": {
  "kernelspec": {
   "display_name": "Python 3 (ipykernel)",
   "language": "python",
   "name": "python3"
  },
  "language_info": {
   "codemirror_mode": {
    "name": "ipython",
    "version": 3
   },
   "file_extension": ".py",
   "mimetype": "text/x-python",
   "name": "python",
   "nbconvert_exporter": "python",
   "pygments_lexer": "ipython3",
   "version": "3.11.6"
  }
 },
 "nbformat": 4,
 "nbformat_minor": 5
}
