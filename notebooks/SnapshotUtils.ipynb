{
 "cells": [
  {
   "cell_type": "markdown",
   "id": "6778283a",
   "metadata": {
    "editable": true,
    "slideshow": {
     "slide_type": ""
    },
    "tags": []
   },
   "source": [
    "## Checkpoints\n",
    "- [ ] ``load -> save -> compare``\n",
    "- [ ] ``make pkg from scratch``\n",
    "- [ ] ``layers generator``"
   ]
  },
  {
   "cell_type": "code",
   "execution_count": 9,
   "id": "f7c9b874-1c2d-4bb6-b428-df626fcbfc27",
   "metadata": {
    "editable": true,
    "slideshow": {
     "slide_type": ""
    },
    "tags": []
   },
   "outputs": [
    {
     "name": "stdout",
     "output_type": "stream",
     "text": [
      "True\n"
     ]
    }
   ],
   "source": [
    "import os\n",
    "\n",
    "conda_env = bool(os.getenv('CONDA_DEFAULT_ENV')) or bool(os.getenv('CONDA_PYTHON_EXE'))  or bool(os.getenv('CONDA_DIR'))\n",
    "print(conda_env)"
   ]
  },
  {
   "cell_type": "code",
   "execution_count": 10,
   "id": "7d6b29a5",
   "metadata": {},
   "outputs": [
    {
     "name": "stdout",
     "output_type": "stream",
     "text": [
      "The line_profiler extension is already loaded. To reload it, use:\n",
      "  %reload_ext line_profiler\n"
     ]
    },
    {
     "name": "stdout",
     "output_type": "stream",
     "text": [
      "Requirement already satisfied: tzdata>=2022.7 in /usr/local/lib/python3.10/dist-packages (from pandas<=2.2.2,>=2.1.0->graph-notebook) (2024.2)\n",
      "Requirement already satisfied: charset-normalizer<4,>=2 in /usr/local/lib/python3.10/dist-packages (from requests<=2.32.2,>=2.32.0->graph-notebook) (3.4.0)\n",
      "Requirement already satisfied: idna<4,>=2.5 in /usr/local/lib/python3.10/dist-packages (from requests<=2.32.2,>=2.32.0->graph-notebook) (3.10)\n",
      "Requirement already satisfied: certifi>=2017.4.17 in /usr/local/lib/python3.10/dist-packages (from requests<=2.32.2,>=2.32.0->graph-notebook) (2024.8.30)\n",
      "Requirement already satisfied: aiohappyeyeballs>=2.3.0 in /usr/local/lib/python3.10/dist-packages (from aiohttp<4.0.0,>=3.8.0->gremlinpython<=3.7.2,>=3.5.1->graph-notebook) (2.4.3)\n",
      "Requirement already satisfied: aiosignal>=1.1.2 in /usr/local/lib/python3.10/dist-packages (from aiohttp<4.0.0,>=3.8.0->gremlinpython<=3.7.2,>=3.5.1->graph-notebook) (1.3.1)\n",
      "Requirement already satisfied: attrs>=17.3.0 in /usr/local/lib/python3.10/dist-packages (from aiohttp<4.0.0,>=3.8.0->gremlinpython<=3.7.2,>=3.5.1->graph-notebook) (24.2.0)\n",
      "Requirement already satisfied: frozenlist>=1.1.1 in /usr/local/lib/python3.10/dist-packages (from aiohttp<4.0.0,>=3.8.0->gremlinpython<=3.7.2,>=3.5.1->graph-notebook) (1.5.0)\n",
      "Requirement already satisfied: multidict<7.0,>=4.5 in /usr/local/lib/python3.10/dist-packages (from aiohttp<4.0.0,>=3.8.0->gremlinpython<=3.7.2,>=3.5.1->graph-notebook) (6.1.0)\n",
      "Requirement already satisfied: propcache>=0.2.0 in /usr/local/lib/python3.10/dist-packages (from aiohttp<4.0.0,>=3.8.0->gremlinpython<=3.7.2,>=3.5.1->graph-notebook) (0.2.0)\n",
      "Requirement already satisfied: yarl<2.0,>=1.17.0 in /usr/local/lib/python3.10/dist-packages (from aiohttp<4.0.0,>=3.8.0->gremlinpython<=3.7.2,>=3.5.1->graph-notebook) (1.17.1)\n",
      "Requirement already satisfied: entrypoints in /usr/local/lib/python3.10/dist-packages (from jupyter-client->ipykernel==5.3.4->graph-notebook) (0.4)\n",
      "Requirement already satisfied: setuptools in /usr/lib/python3/dist-packages (from jupyter-contrib-core>=0.3.3->jupyter-contrib-nbextensions<=0.7.0->graph-notebook) (59.6.0)\n",
      "Requirement already satisfied: platformdirs>=2.5 in /usr/local/lib/python3.10/dist-packages (from jupyter-core->jupyter-contrib-nbextensions<=0.7.0->graph-notebook) (4.3.6)\n",
      "Requirement already satisfied: jupyter-server in /usr/local/lib/python3.10/dist-packages (from jupyter-nbextensions-configurator>=0.4.0->jupyter-contrib-nbextensions<=0.7.0->graph-notebook) (1.24.0)\n",
      "Requirement already satisfied: pyyaml in /usr/local/lib/python3.10/dist-packages (from jupyter-nbextensions-configurator>=0.4.0->jupyter-contrib-nbextensions<=0.7.0->graph-notebook) (6.0.2)\n",
      "Requirement already satisfied: notebook-shim>=0.2.3 in /usr/local/lib/python3.10/dist-packages (from nbclassic>=0.4.7->notebook<7.0.0,>=6.1.5->graph-notebook) (0.2.4)\n",
      "Requirement already satisfied: fastjsonschema>=2.15 in /usr/local/lib/python3.10/dist-packages (from nbformat>=5.1->nbclient<=0.7.3->graph-notebook) (2.20.0)\n",
      "Requirement already satisfied: jsonschema>=2.6 in /usr/local/lib/python3.10/dist-packages (from nbformat>=5.1->nbclient<=0.7.3->graph-notebook) (4.23.0)\n",
      "Requirement already satisfied: ptyprocess>=0.5 in /usr/local/lib/python3.10/dist-packages (from pexpect>4.3->ipython<=8.10.0,>=7.16.1->graph-notebook) (0.7.0)\n",
      "Requirement already satisfied: wcwidth in /usr/local/lib/python3.10/dist-packages (from prompt-toolkit<3.1.0,>=3.0.30->ipython<=8.10.0,>=7.16.1->graph-notebook) (0.2.13)\n",
      "Requirement already satisfied: argon2-cffi-bindings in /usr/local/lib/python3.10/dist-packages (from argon2-cffi->notebook<7.0.0,>=6.1.5->graph-notebook) (21.2.0)\n",
      "Requirement already satisfied: soupsieve>1.2 in /usr/local/lib/python3.10/dist-packages (from beautifulsoup4->nbconvert<=7.2.8,>=6.3.0->graph-notebook) (2.6)\n",
      "Requirement already satisfied: webencodings in /usr/local/lib/python3.10/dist-packages (from bleach->nbconvert<=7.2.8,>=6.3.0->graph-notebook) (0.5.1)\n",
      "Requirement already satisfied: qtpy>=2.4.0 in /usr/local/lib/python3.10/dist-packages (from qtconsole->jupyter==1.0.0->graph-notebook) (2.4.2)\n",
      "Requirement already satisfied: executing>=1.2.0 in /usr/local/lib/python3.10/dist-packages (from stack-data->ipython<=8.10.0,>=7.16.1->graph-notebook) (2.1.0)\n",
      "Requirement already satisfied: asttokens>=2.1.0 in /usr/local/lib/python3.10/dist-packages (from stack-data->ipython<=8.10.0,>=7.16.1->graph-notebook) (2.4.1)\n",
      "Requirement already satisfied: pure-eval in /usr/local/lib/python3.10/dist-packages (from stack-data->ipython<=8.10.0,>=7.16.1->graph-notebook) (0.2.3)\n",
      "Requirement already satisfied: jsonschema-specifications>=2023.03.6 in /usr/local/lib/python3.10/dist-packages (from jsonschema>=2.6->nbformat>=5.1->nbclient<=0.7.3->graph-notebook) (2024.10.1)\n",
      "Requirement already satisfied: referencing>=0.28.4 in /usr/local/lib/python3.10/dist-packages (from jsonschema>=2.6->nbformat>=5.1->nbclient<=0.7.3->graph-notebook) (0.35.1)\n",
      "Requirement already satisfied: rpds-py>=0.7.1 in /usr/local/lib/python3.10/dist-packages (from jsonschema>=2.6->nbformat>=5.1->nbclient<=0.7.3->graph-notebook) (0.21.0)\n",
      "Requirement already satisfied: typing-extensions>=4.1.0 in /usr/local/lib/python3.10/dist-packages (from multidict<7.0,>=4.5->aiohttp<4.0.0,>=3.8.0->gremlinpython<=3.7.2,>=3.5.1->graph-notebook) (4.12.2)\n",
      "Requirement already satisfied: anyio<4,>=3.1.0 in /usr/local/lib/python3.10/dist-packages (from jupyter-server->jupyter-nbextensions-configurator>=0.4.0->jupyter-contrib-nbextensions<=0.7.0->graph-notebook) (3.7.1)\n",
      "Requirement already satisfied: websocket-client in /usr/local/lib/python3.10/dist-packages (from jupyter-server->jupyter-nbextensions-configurator>=0.4.0->jupyter-contrib-nbextensions<=0.7.0->graph-notebook) (1.8.0)\n",
      "Requirement already satisfied: cffi>=1.0.1 in /usr/local/lib/python3.10/dist-packages (from argon2-cffi-bindings->argon2-cffi->notebook<7.0.0,>=6.1.5->graph-notebook) (1.17.1)\n",
      "Requirement already satisfied: sniffio>=1.1 in /usr/local/lib/python3.10/dist-packages (from anyio<4,>=3.1.0->jupyter-server->jupyter-nbextensions-configurator>=0.4.0->jupyter-contrib-nbextensions<=0.7.0->graph-notebook) (1.3.1)\n",
      "Requirement already satisfied: exceptiongroup in /usr/local/lib/python3.10/dist-packages (from anyio<4,>=3.1.0->jupyter-server->jupyter-nbextensions-configurator>=0.4.0->jupyter-contrib-nbextensions<=0.7.0->graph-notebook) (1.2.2)\n",
      "Requirement already satisfied: pycparser in /usr/local/lib/python3.10/dist-packages (from cffi>=1.0.1->argon2-cffi-bindings->argon2-cffi->notebook<7.0.0,>=6.1.5->graph-notebook) (2.22)\n",
      "\u001b[33mWARNING: Running pip as the 'root' user can result in broken permissions and conflicting behaviour with the system package manager, possibly rendering your system unusable.It is recommended to use a virtual environment instead: https://pip.pypa.io/warnings/venv. Use the --root-user-action option if you know what you are doing and want to suppress this warning.\u001b[0m\u001b[33m\n",
      "\u001b[0mRequirement already satisfied: graphviz in /usr/local/lib/python3.10/dist-packages (0.20.3)\n",
      "\u001b[33mWARNING: Running pip as the 'root' user can result in broken permissions and conflicting behaviour with the system package manager, possibly rendering your system unusable.It is recommended to use a virtual environment instead: https://pip.pypa.io/warnings/venv. Use the --root-user-action option if you know what you are doing and want to suppress this warning.\u001b[0m\u001b[33m\n",
      "\u001b[0mRequirement already satisfied: pydot in /usr/local/lib/python3.10/dist-packages (3.0.2)\n",
      "Requirement already satisfied: pyparsing>=3.0.9 in /usr/local/lib/python3.10/dist-packages (from pydot) (3.2.0)\n",
      "\u001b[33mWARNING: Running pip as the 'root' user can result in broken permissions and conflicting behaviour with the system package manager, possibly rendering your system unusable.It is recommended to use a virtual environment instead: https://pip.pypa.io/warnings/venv. Use the --root-user-action option if you know what you are doing and want to suppress this warning.\u001b[0m\u001b[33m\n",
      "\u001b[0mRequirement already satisfied: networkx in /usr/local/lib/python3.10/dist-packages (2.4)\n",
      "Requirement already satisfied: decorator>=4.3.0 in /usr/local/lib/python3.10/dist-packages (from networkx) (5.1.1)\n"
     ]
    },
    {
     "name": "stdout",
     "output_type": "stream",
     "text": [
      "\u001b[33mWARNING: Running pip as the 'root' user can result in broken permissions and conflicting behaviour with the system package manager, possibly rendering your system unusable.It is recommended to use a virtual environment instead: https://pip.pypa.io/warnings/venv. Use the --root-user-action option if you know what you are doing and want to suppress this warning.\u001b[0m\u001b[33m\n",
      "\u001b[0mRequirement already satisfied: pyvis in /usr/local/lib/python3.10/dist-packages (0.3.2)\n",
      "Requirement already satisfied: ipython>=5.3.0 in /usr/local/lib/python3.10/dist-packages (from pyvis) (8.10.0)\n",
      "Requirement already satisfied: jinja2>=2.9.6 in /usr/local/lib/python3.10/dist-packages (from pyvis) (3.1.4)\n",
      "Requirement already satisfied: jsonpickle>=1.4.1 in /usr/local/lib/python3.10/dist-packages (from pyvis) (4.0.1)\n",
      "Requirement already satisfied: networkx>=1.11 in /usr/local/lib/python3.10/dist-packages (from pyvis) (2.4)\n",
      "Requirement already satisfied: backcall in /usr/local/lib/python3.10/dist-packages (from ipython>=5.3.0->pyvis) (0.2.0)\n",
      "Requirement already satisfied: decorator in /usr/local/lib/python3.10/dist-packages (from ipython>=5.3.0->pyvis) (5.1.1)\n",
      "Requirement already satisfied: jedi>=0.16 in /usr/local/lib/python3.10/dist-packages (from ipython>=5.3.0->pyvis) (0.18.2)\n",
      "Requirement already satisfied: matplotlib-inline in /usr/local/lib/python3.10/dist-packages (from ipython>=5.3.0->pyvis) (0.1.7)\n",
      "Requirement already satisfied: pickleshare in /usr/local/lib/python3.10/dist-packages (from ipython>=5.3.0->pyvis) (0.7.5)\n",
      "Requirement already satisfied: prompt-toolkit<3.1.0,>=3.0.30 in /usr/local/lib/python3.10/dist-packages (from ipython>=5.3.0->pyvis) (3.0.48)\n",
      "Requirement already satisfied: pygments>=2.4.0 in /usr/local/lib/python3.10/dist-packages (from ipython>=5.3.0->pyvis) (2.18.0)\n",
      "Requirement already satisfied: stack-data in /usr/local/lib/python3.10/dist-packages (from ipython>=5.3.0->pyvis) (0.6.3)\n",
      "Requirement already satisfied: traitlets>=5 in /usr/local/lib/python3.10/dist-packages (from ipython>=5.3.0->pyvis) (5.14.3)\n",
      "Requirement already satisfied: pexpect>4.3 in /usr/local/lib/python3.10/dist-packages (from ipython>=5.3.0->pyvis) (4.9.0)\n",
      "Requirement already satisfied: MarkupSafe>=2.0 in /usr/local/lib/python3.10/dist-packages (from jinja2>=2.9.6->pyvis) (3.0.2)\n",
      "Requirement already satisfied: parso<0.9.0,>=0.8.0 in /usr/local/lib/python3.10/dist-packages (from jedi>=0.16->ipython>=5.3.0->pyvis) (0.8.4)\n",
      "Requirement already satisfied: ptyprocess>=0.5 in /usr/local/lib/python3.10/dist-packages (from pexpect>4.3->ipython>=5.3.0->pyvis) (0.7.0)\n",
      "Requirement already satisfied: wcwidth in /usr/local/lib/python3.10/dist-packages (from prompt-toolkit<3.1.0,>=3.0.30->ipython>=5.3.0->pyvis) (0.2.13)\n",
      "Requirement already satisfied: executing>=1.2.0 in /usr/local/lib/python3.10/dist-packages (from stack-data->ipython>=5.3.0->pyvis) (2.1.0)\n",
      "Requirement already satisfied: asttokens>=2.1.0 in /usr/local/lib/python3.10/dist-packages (from stack-data->ipython>=5.3.0->pyvis) (2.4.1)\n",
      "Requirement already satisfied: pure-eval in /usr/local/lib/python3.10/dist-packages (from stack-data->ipython>=5.3.0->pyvis) (0.2.3)\n",
      "Requirement already satisfied: six>=1.12.0 in /usr/lib/python3/dist-packages (from asttokens>=2.1.0->stack-data->ipython>=5.3.0->pyvis) (1.16.0)\n",
      "\u001b[33mWARNING: Running pip as the 'root' user can result in broken permissions and conflicting behaviour with the system package manager, possibly rendering your system unusable.It is recommended to use a virtual environment instead: https://pip.pypa.io/warnings/venv. Use the --root-user-action option if you know what you are doing and want to suppress this warning.\u001b[0m\u001b[33m\n",
      "\u001b[0m\u001b[31mERROR: Could not find a version that satisfies the requirement platform (from versions: none)\u001b[0m\u001b[31m\n",
      "\u001b[0m\u001b[31mERROR: No matching distribution found for platform\u001b[0m\u001b[31m\n",
      "\u001b[0m\u001b[31mERROR: Ignored the following yanked versions: 20081119\u001b[0m\u001b[31m\n",
      "\u001b[0m\u001b[31mERROR: Could not find a version that satisfies the requirement hashlib (from versions: none)\u001b[0m\u001b[31m\n",
      "\u001b[0m\u001b[31mERROR: No matching distribution found for hashlib\u001b[0m\u001b[31m\n",
      "\u001b[0mRequirement already satisfied: jycm in /usr/local/lib/python3.10/dist-packages (1.5.0)\n",
      "Requirement already satisfied: click>=8.0.0 in /usr/local/lib/python3.10/dist-packages (from jycm) (8.1.8)\n",
      "Requirement already satisfied: numpy in /usr/local/lib/python3.10/dist-packages (from jycm) (1.23.5)\n",
      "Requirement already satisfied: six<2.0.0,>=1.11.0 in /usr/lib/python3/dist-packages (from jycm) (1.16.0)\n",
      "\u001b[33mWARNING: Running pip as the 'root' user can result in broken permissions and conflicting behaviour with the system package manager, possibly rendering your system unusable.It is recommended to use a virtual environment instead: https://pip.pypa.io/warnings/venv. Use the --root-user-action option if you know what you are doing and want to suppress this warning.\u001b[0m\u001b[33m\n",
      "\u001b[0mRequirement already satisfied: pipreqs in /usr/local/lib/python3.10/dist-packages (0.4.13)\n",
      "Requirement already satisfied: docopt in /usr/local/lib/python3.10/dist-packages (from pipreqs) (0.6.2)\n",
      "Requirement already satisfied: yarg in /usr/local/lib/python3.10/dist-packages (from pipreqs) (0.1.10)\n",
      "Requirement already satisfied: requests in /usr/local/lib/python3.10/dist-packages (from yarg->pipreqs) (2.32.2)\n",
      "Requirement already satisfied: charset-normalizer<4,>=2 in /usr/local/lib/python3.10/dist-packages (from requests->yarg->pipreqs) (3.4.0)\n",
      "Requirement already satisfied: idna<4,>=2.5 in /usr/local/lib/python3.10/dist-packages (from requests->yarg->pipreqs) (3.10)\n",
      "Requirement already satisfied: urllib3<3,>=1.21.1 in /usr/local/lib/python3.10/dist-packages (from requests->yarg->pipreqs) (1.26.20)\n",
      "Requirement already satisfied: certifi>=2017.4.17 in /usr/local/lib/python3.10/dist-packages (from requests->yarg->pipreqs) (2024.8.30)\n",
      "\u001b[33mWARNING: Running pip as the 'root' user can result in broken permissions and conflicting behaviour with the system package manager, possibly rendering your system unusable.It is recommended to use a virtual environment instead: https://pip.pypa.io/warnings/venv. Use the --root-user-action option if you know what you are doing and want to suppress this warning.\u001b[0m\u001b[33m\n",
      "\u001b[0mThe line_profiler extension is already loaded. To reload it, use:\n",
      "  %reload_ext line_profiler\n"
     ]
    }
   ],
   "source": [
    "upgrade_py = False\n",
    "if upgrade_py:\n",
    "    if conda_env:\n",
    "        !conda install -y python-dotenv\n",
    "    else:\n",
    "        !python3.10 -m pip install --upgrade pip\n",
    "        !pip install graph-notebook\n",
    "        !pip install graphviz\n",
    "        !pip install pydot\n",
    "        !pip install networkx\n",
    "        !pip install pyvis\n",
    "        !pip install platform\n",
    "        !pip install hashlib\n",
    "        !pip install jycm\n",
    "        !pip install pipreqs\n",
    "%load_ext line_profiler"
   ]
  },
  {
   "cell_type": "code",
   "execution_count": 11,
   "id": "da047756",
   "metadata": {},
   "outputs": [
    {
     "name": "stdout",
     "output_type": "stream",
     "text": [
      "The autoreload extension is already loaded. To reload it, use:\n",
      "  %reload_ext autoreload\n",
      "The dotenv extension is already loaded. To reload it, use:\n",
      "  %reload_ext dotenv\n"
     ]
    }
   ],
   "source": [
    "%load_ext autoreload\n",
    "%autoreload 2\n",
    "%load_ext dotenv\n",
    "%dotenv"
   ]
  },
  {
   "cell_type": "code",
   "execution_count": 12,
   "id": "27115a0b",
   "metadata": {
    "editable": true,
    "slideshow": {
     "slide_type": ""
    },
    "tags": []
   },
   "outputs": [],
   "source": [
    "import os\n",
    "import sys\n",
    "import matplotlib.pyplot as plt\n",
    "import networkx as nx\n",
    "import json\n",
    "import pprint\n",
    "import numpy as np\n",
    "import pandas as pd\n",
    "import time\n",
    "import platform\n",
    "import hashlib\n",
    "from enum import Enum\n",
    "from pyvis.network import Network\n",
    "from IPython.display import display, HTML\n",
    "import copy\n",
    "import tqdm\n",
    "from jycm.jycm import YouchamaJsonDiffer\n",
    "from IPython.display import JSON\n",
    "from IPython.display import Markdown\n",
    "\n",
    "from pathlib import Path\n",
    "os.environ[\"MGENN_DEBUG\"] = \"Y\"\n"
   ]
  },
  {
   "cell_type": "code",
   "execution_count": 13,
   "id": "b39c0311",
   "metadata": {},
   "outputs": [],
   "source": [
    "sys.path.append(os.path.dirname(os.getcwd()))\n",
    "sys.path.append(Path(os.getcwd()).parent.absolute())\n",
    "\n",
    "import mcore as mc\n",
    "\n",
    "from common import *"
   ]
  },
  {
   "cell_type": "code",
   "execution_count": 14,
   "id": "1df3d4e0",
   "metadata": {},
   "outputs": [
    {
     "data": {
      "text/plain": [
       "'inputs:9, outputs:10, neurons:10, links:10, total:39'"
      ]
     },
     "execution_count": 14,
     "metadata": {},
     "output_type": "execute_result"
    }
   ],
   "source": [
    "pkg = mc.Package()\n",
    "pkg.loadFile('data/namespacetest_rev0.pkg')\n",
    "pkg.counts()\n"
   ]
  },
  {
   "cell_type": "code",
   "execution_count": 17,
   "id": "82deb882",
   "metadata": {},
   "outputs": [
    {
     "name": "stdout",
     "output_type": "stream",
     "text": [
      "Local cdn resources have problems on chrome/safari when used in jupyter-notebook. \n",
      "{'attenuationPerTick': '0.020000', 'events': [], 'id': 10, 'length': 2, 'receiverId': 64}\n",
      "[2025-03-28 18:28:45]in[linkEnds.456] link 10 is hanging down\n",
      "link  0  to  64  sz: 2\n",
      "{'attenuationPerTick': '0.020000', 'events': [], 'id': 11, 'length': 2, 'receiverId': 65}\n",
      "link  Alias1  to  65  sz: 2\n",
      "{'attenuationPerTick': '0.020000', 'events': [], 'id': 12, 'length': 2, 'receiverId': 66}\n",
      "link  Alias2  to  66  sz: 2\n",
      "{'attenuationPerTick': '0.020000', 'events': [], 'id': 13, 'length': 2, 'receiverId': 67}\n",
      "link  Alias3  to  67  sz: 2\n",
      "{'attenuationPerTick': '0.020000', 'events': [], 'id': 14, 'length': 2, 'receiverId': 68}\n",
      "link  Alias4  to  68  sz: 2\n",
      "{'attenuationPerTick': '0.020000', 'events': [], 'id': 15, 'length': 2, 'receiverId': 69}\n",
      "link  Alias5  to  69  sz: 2\n",
      "{'attenuationPerTick': '0.020000', 'events': [], 'id': 16, 'length': 2, 'receiverId': 70}\n",
      "link  Alias6  to  70  sz: 2\n",
      "{'attenuationPerTick': '0.020000', 'events': [], 'id': 17, 'length': 2, 'receiverId': 71}\n",
      "link  Alias7  to  71  sz: 2\n",
      "{'attenuationPerTick': '0.020000', 'events': [], 'id': 18, 'length': 2, 'receiverId': 72}\n",
      "link  Alias8  to  72  sz: 2\n",
      "{'attenuationPerTick': '0.020000', 'events': [], 'id': 19, 'length': 2, 'receiverId': 73}\n",
      "link  Alias9  to  73  sz: 2\n"
     ]
    },
    {
     "data": {
      "text/html": [
       "\n",
       "        <iframe\n",
       "            width=\"100%\"\n",
       "            height=\"750px\"\n",
       "            src=\"nx.html\"\n",
       "            frameborder=\"0\"\n",
       "            allowfullscreen\n",
       "            \n",
       "        ></iframe>\n",
       "        "
      ],
      "text/plain": [
       "<IPython.lib.display.IFrame at 0x7ad4ac59e250>"
      ]
     },
     "execution_count": 17,
     "metadata": {},
     "output_type": "execute_result"
    }
   ],
   "source": [
    "PackageUIHelper.showGraph(pkg, link_to_zero = False)"
   ]
  },
  {
   "cell_type": "markdown",
   "id": "aa6410b6",
   "metadata": {},
   "source": [
    "## low-level generators"
   ]
  },
  {
   "cell_type": "code",
   "execution_count": null,
   "id": "2fe51d2b",
   "metadata": {},
   "outputs": [],
   "source": [
    "\n",
    "\n",
    "p = pkg.clone()\n",
    "n1 = ObjectFactory.makeNeuronData(peak = 10.0, receivers = [], leak = 0.1, currentEnergy = 3.0, id = p.nextId())\n",
    "p.neurons.append(n1)\n",
    "p.connect(n1[\"id\"], 64)\n",
    "p.connect(n1[\"id\"], 65)\n",
    "p.connect(n1[\"id\"], 69)\n",
    "g = showGraph(p)\n",
    "print(\"new object\",n1[\"id\"])\n",
    "g\n",
    "pkg = None"
   ]
  },
  {
   "cell_type": "markdown",
   "id": "438f314b",
   "metadata": {},
   "source": [
    "## high-level generators"
   ]
  },
  {
   "cell_type": "code",
   "execution_count": null,
   "id": "38a416f0",
   "metadata": {},
   "outputs": [],
   "source": [
    "pkg = mc.Package.make_empty()\n",
    "n1 = pkg.new_neuron(leak=1.0, peak=5.0, receivers=[])\n",
    "i1 = pkg.new_tape_input(\"i1\", [])\n",
    "o1 = pkg.new_output(\"o1\")\n",
    "\n",
    "l1 = pkg.new_link_between(apt=0.0, length=1, src=i1, dst=n1)\n",
    "l2 = pkg.new_link_between(apt=0.0, length=1, src=n1, dst=o1)\n",
    "print(f\"i_{i1} --[{l1}]-> N_{n1} --[{l2}]-> o_{o1}\")\n",
    "showGraph(pkg)"
   ]
  },
  {
   "cell_type": "markdown",
   "id": "633f3be0-9e87-45d4-b02f-d0ee2fe68df5",
   "metadata": {},
   "source": [
    "# simple network"
   ]
  },
  {
   "cell_type": "code",
   "execution_count": null,
   "id": "5c84a676",
   "metadata": {},
   "outputs": [],
   "source": [
    "F.make_quiet()\n",
    "pkg = mc.Package.make_empty()\n",
    "n1 = pkg.new_neuron(leak=1.0, peak=5.0, receivers=[])\n",
    "i1 = pkg.new_tape_input(\"i1\", [])\n",
    "o1 = pkg.new_output(\"o1\")\n",
    "\n",
    "l1 = pkg.new_link_between(apt=0.0, length=1, src=i1, dst=n1)\n",
    "l2 = pkg.new_link_between(apt=0.0, length=1, src=n1, dst=o1)\n",
    "ce = mc.Engine()\n",
    "ce.core = mc.Core()\n",
    "ce.core.load(pkg)\n",
    "ce.tick_offset = 0\n",
    "\n",
    "df_expected = pd.DataFrame([0.0]*7 + [5.0] + [0.0]*4, columns=['o1_exp'])\n",
    "df_in = pd.DataFrame([3,0] * 6, columns=['i1'])\n",
    "out = [0] * 9 + [5, 0]\n",
    "ticks = 12\n",
    "df_out = pd.DataFrame()\n",
    "for t in range(ticks):\n",
    "    df_out = pd.concat([df_out, ce.run_once(df_in)], ignore_index=True)\n",
    "\n"
   ]
  },
  {
   "cell_type": "code",
   "execution_count": null,
   "id": "e59bd3f6",
   "metadata": {},
   "outputs": [],
   "source": [
    "io = pd.concat([df_in, df_out, df_expected], axis=1)\n",
    "io['error'] = io['o1'].astype(float) - io['o1_exp'].astype(float)\n",
    "io"
   ]
  },
  {
   "cell_type": "markdown",
   "id": "f3269a7c-0b35-4cd4-bd16-e301e7611404",
   "metadata": {
    "editable": true,
    "slideshow": {
     "slide_type": ""
    },
    "tags": []
   },
   "source": [
    "# Worm with breakpoints\n",
    "## make worm"
   ]
  },
  {
   "cell_type": "code",
   "execution_count": null,
   "id": "cf5f9f4e",
   "metadata": {},
   "outputs": [],
   "source": [
    "F.make_quiet()\n",
    "#F.make_verbose()\n",
    "pkg = mc.Package.make_empty()\n",
    "o_end = pkg.new_output(\"o_end\")\n",
    "w_size = 10\n",
    "last_o = o_end\n",
    "last_n = None\n",
    "ns = []\n",
    "for i in range(w_size):\n",
    "    ni = pkg.new_neuron(leak=0.0, peak=5.0, receivers=[])\n",
    "    pkg.new_link_between(apt=0.0, length=1, src=ni, dst=last_o)\n",
    "    last_o = pkg.new_output(f\"o_end-{i}\")\n",
    "    ns.append(ni)\n",
    "    if last_n:\n",
    "        pkg.new_link_between(apt=1.0, length=1, src=ni, dst=last_n)\n",
    "    last_n = ni\n",
    "i1 = pkg.new_tape_input(\"i1\", [])\n",
    "pkg.new_link_between(apt=0.0, length=1, src=i1, dst=last_n)\n",
    "showGraph(pkg)\n"
   ]
  },
  {
   "cell_type": "markdown",
   "id": "f6f9ec5c-4bc4-4cae-ac8b-1d66f5d61480",
   "metadata": {},
   "source": [
    "## run worm"
   ]
  },
  {
   "cell_type": "code",
   "execution_count": null,
   "id": "a0a7f5b7-17c1-4ea5-b3c4-e44340c59631",
   "metadata": {},
   "outputs": [],
   "source": [
    "\n",
    "ce = None\n",
    "dirty_pkg = pkg.clone()\n",
    "ce = mc.Engine()\n",
    "ce.core = mc.Core()\n",
    "ce.core.load(dirty_pkg)\n",
    "ce.tick_offset = 0\n",
    "ticks = 200\n",
    "df_expected = pd.DataFrame([1.0]*(20) + [0.0]*(ticks-20), columns=['o_end'])\n",
    "df_in = pd.DataFrame([1.0]*(20) + [0.0]*(ticks-20), columns=['i1'])\n",
    "total_energy = []\n",
    "\n",
    "df_out = pd.DataFrame()\n",
    "for t in tqdm.tqdm(range(ticks)):\n",
    "    df_out = pd.concat([df_out, ce.run_once(df_in)], ignore_index=True)\n",
    "    dpkg = ce.core.dump()\n",
    "    energy = dpkg.total_energy()\n",
    "    total_energy.append(energy)\n",
    "e_df = pd.DataFrame(total_energy, columns=[\"E\"])\n",
    "ax = e_df.plot(kind='line', title='total E', grid='on')\n",
    "plt.xlabel('tick')\n",
    "plt.ylabel('Energy')\n",
    "plt.show()\n",
    "\n",
    "\n",
    "\n",
    "## bars output\n",
    "ax = df_out.plot(kind='bar', title='Outputs B', grid='on')\n",
    "plt.xlabel('tick')\n",
    "plt.ylabel('Energy')\n",
    "plt.show()\n",
    "\n",
    "#line output\n",
    "ax = df_out.plot(kind='line', title='Outputs L', grid='on')\n",
    "plt.xlabel('tick')\n",
    "plt.ylabel('Energy')\n",
    "plt.show()"
   ]
  },
  {
   "cell_type": "code",
   "execution_count": null,
   "id": "8520e7d1-58f4-40ef-a66f-a92b1451fb86",
   "metadata": {
    "editable": true,
    "slideshow": {
     "slide_type": ""
    },
    "tags": []
   },
   "outputs": [],
   "source": [
    "df_out"
   ]
  },
  {
   "cell_type": "code",
   "execution_count": null,
   "id": "c6c03e58-cda5-4b88-98f0-11d031204d99",
   "metadata": {},
   "outputs": [],
   "source": []
  }
 ],
 "metadata": {
  "kernelspec": {
   "display_name": "Python 3 (ipykernel)",
   "language": "python",
   "name": "python3"
  },
  "language_info": {
   "codemirror_mode": {
    "name": "ipython",
    "version": 3
   },
   "file_extension": ".py",
   "mimetype": "text/x-python",
   "name": "python",
   "nbconvert_exporter": "python",
   "pygments_lexer": "ipython3",
   "version": "3.11.6"
  }
 },
 "nbformat": 4,
 "nbformat_minor": 5
}
