{
 "cells": [
  {
   "cell_type": "code",
   "execution_count": 1,
   "id": "637b432c",
   "metadata": {},
   "outputs": [
    {
     "data": {
      "application/javascript": [
       "IPython.OutputArea.prototype._should_scroll = function(lines) {\n",
       "    return false;\n",
       "}\n"
      ],
      "text/plain": [
       "<IPython.core.display.Javascript object>"
      ]
     },
     "metadata": {},
     "output_type": "display_data"
    }
   ],
   "source": [
    "%%javascript\n",
    "IPython.OutputArea.prototype._should_scroll = function(lines) {\n",
    "    return false;\n",
    "}"
   ]
  },
  {
   "cell_type": "code",
   "execution_count": 2,
   "id": "f4008ca8",
   "metadata": {},
   "outputs": [
    {
     "name": "stdout",
     "output_type": "stream",
     "text": [
      "cannot find .env file\n"
     ]
    }
   ],
   "source": [
    "%load_ext autoreload\n",
    "%autoreload 2\n",
    "%load_ext dotenv\n",
    "%dotenv"
   ]
  },
  {
   "cell_type": "code",
   "execution_count": 3,
   "id": "8f60ef4a",
   "metadata": {},
   "outputs": [
    {
     "name": "stdout",
     "output_type": "stream",
     "text": [
      "dir ['CoreObject', 'Neuron', 'RunnableObject', '__all__', '__builtins__', '__cached__', '__doc__', '__file__', '__loader__', '__name__', '__package__', '__path__', '__spec__', 'core_object', 'neuron']\n",
      "all ['CoreObject', 'Neuron', 'RunnableObject']\n"
     ]
    }
   ],
   "source": [
    "import sys\n",
    "import os\n",
    "from pathlib import Path\n",
    "\n",
    "sys.path.append(os.path.dirname(os.getcwd()))\n",
    "sys.path.append(Path(os.getcwd()).parent.absolute())\n",
    "\n",
    "import mcore as mc\n",
    "#from common import *\n",
    "print(\"dir\", dir(mc))\n",
    "print(\"all\", mc.__all__)\n"
   ]
  },
  {
   "cell_type": "code",
   "execution_count": 5,
   "id": "60fc0a27",
   "metadata": {},
   "outputs": [
    {
     "data": {
      "text/plain": [
       "[0.0, 0.0, 0.0, 0.0, 0.0, 0.0, 0.0, 0.0, 0.0, 0.0, 0.0, 0.0, 2.0]"
      ]
     },
     "execution_count": 5,
     "metadata": {},
     "output_type": "execute_result"
    }
   ],
   "source": [
    "([0.]*18) +  [2.] + ([0.]*18) +  [2.]"
   ]
  },
  {
   "cell_type": "code",
   "execution_count": 4,
   "id": "d751f464",
   "metadata": {},
   "outputs": [
    {
     "name": "stdout",
     "output_type": "stream",
     "text": [
      "iter(0) N[0]e:0.1 l:0.1 p:2.0 ticks with 0.0 result \n",
      "iter(1) N[0]e:0.20000000000000004 l:0.1 p:2.0 ticks with 0.0 result \n",
      "iter(2) N[0]e:0.30000000000000004 l:0.1 p:2.0 ticks with 0.0 result \n",
      "iter(3) N[0]e:0.4 l:0.1 p:2.0 ticks with 0.0 result \n",
      "iter(4) N[0]e:0.5000000000000001 l:0.1 p:2.0 ticks with 0.0 result \n",
      "iter(5) N[0]e:0.6000000000000002 l:0.1 p:2.0 ticks with 0.0 result \n",
      "iter(6) N[0]e:0.7000000000000003 l:0.1 p:2.0 ticks with 0.0 result \n",
      "iter(7) N[0]e:0.8000000000000004 l:0.1 p:2.0 ticks with 0.0 result \n",
      "iter(8) N[0]e:0.9000000000000005 l:0.1 p:2.0 ticks with 0.0 result \n",
      "iter(9) N[0]e:1.0000000000000004 l:0.1 p:2.0 ticks with 0.0 result \n",
      "iter(10) N[0]e:1.1000000000000003 l:0.1 p:2.0 ticks with 0.0 result \n",
      "iter(11) N[0]e:1.2000000000000002 l:0.1 p:2.0 ticks with 0.0 result \n",
      "iter(12) N[0]e:1.3 l:0.1 p:2.0 ticks with 0.0 result \n",
      "iter(13) N[0]e:1.4 l:0.1 p:2.0 ticks with 0.0 result \n",
      "iter(14) N[0]e:1.4999999999999998 l:0.1 p:2.0 ticks with 0.0 result \n",
      "iter(15) N[0]e:1.5999999999999996 l:0.1 p:2.0 ticks with 0.0 result \n",
      "iter(16) N[0]e:1.6999999999999995 l:0.1 p:2.0 ticks with 0.0 result \n",
      "iter(17) N[0]e:1.7999999999999994 l:0.1 p:2.0 ticks with 0.0 result \n",
      "N[0]e:1.9999999999999993 l:0.1 p:2.0 shots!\n",
      "iter(18) N[0]e:0.0 l:0.1 p:2.0 ticks with 2.0 result \n",
      "iter(19) N[0]e:0.1 l:0.1 p:2.0 ticks with 0.0 result \n",
      "iter(20) N[0]e:0.20000000000000004 l:0.1 p:2.0 ticks with 0.0 result \n",
      "iter(21) N[0]e:0.30000000000000004 l:0.1 p:2.0 ticks with 0.0 result \n",
      "iter(22) N[0]e:0.4 l:0.1 p:2.0 ticks with 0.0 result \n",
      "iter(23) N[0]e:0.5000000000000001 l:0.1 p:2.0 ticks with 0.0 result \n",
      "iter(24) N[0]e:0.6000000000000002 l:0.1 p:2.0 ticks with 0.0 result \n",
      "iter(25) N[0]e:0.7000000000000003 l:0.1 p:2.0 ticks with 0.0 result \n",
      "iter(26) N[0]e:0.8000000000000004 l:0.1 p:2.0 ticks with 0.0 result \n",
      "iter(27) N[0]e:0.9000000000000005 l:0.1 p:2.0 ticks with 0.0 result \n",
      "iter(28) N[0]e:1.0000000000000004 l:0.1 p:2.0 ticks with 0.0 result \n",
      "iter(29) N[0]e:1.1000000000000003 l:0.1 p:2.0 ticks with 0.0 result \n",
      "iter(30) N[0]e:1.2000000000000002 l:0.1 p:2.0 ticks with 0.0 result \n",
      "iter(31) N[0]e:1.3 l:0.1 p:2.0 ticks with 0.0 result \n",
      "iter(32) N[0]e:1.4 l:0.1 p:2.0 ticks with 0.0 result \n",
      "iter(33) N[0]e:1.4999999999999998 l:0.1 p:2.0 ticks with 0.0 result \n",
      "iter(34) N[0]e:1.5999999999999996 l:0.1 p:2.0 ticks with 0.0 result \n",
      "iter(35) N[0]e:1.6999999999999995 l:0.1 p:2.0 ticks with 0.0 result \n",
      "iter(36) N[0]e:1.7999999999999994 l:0.1 p:2.0 ticks with 0.0 result \n",
      "N[0]e:1.9999999999999993 l:0.1 p:2.0 shots!\n",
      "iter(37) N[0]e:0.0 l:0.1 p:2.0 ticks with 2.0 result \n",
      "iter(38) N[0]e:0.1 l:0.1 p:2.0 ticks with 0.0 result \n",
      "iter(39) N[0]e:0.20000000000000004 l:0.1 p:2.0 ticks with 0.0 result \n",
      "iter(40) N[0]e:0.30000000000000004 l:0.1 p:2.0 ticks with 0.0 result \n",
      "iter(41) N[0]e:0.4 l:0.1 p:2.0 ticks with 0.0 result \n",
      "iter(42) N[0]e:0.5000000000000001 l:0.1 p:2.0 ticks with 0.0 result \n",
      "iter(43) N[0]e:0.6000000000000002 l:0.1 p:2.0 ticks with 0.0 result \n",
      "iter(44) N[0]e:0.7000000000000003 l:0.1 p:2.0 ticks with 0.0 result \n",
      "iter(45) N[0]e:0.8000000000000004 l:0.1 p:2.0 ticks with 0.0 result \n",
      "iter(46) N[0]e:0.9000000000000005 l:0.1 p:2.0 ticks with 0.0 result \n",
      "iter(47) N[0]e:1.0000000000000004 l:0.1 p:2.0 ticks with 0.0 result \n",
      "iter(48) N[0]e:1.1000000000000003 l:0.1 p:2.0 ticks with 0.0 result \n",
      "iter(49) N[0]e:1.2000000000000002 l:0.1 p:2.0 ticks with 0.0 result \n"
     ]
    }
   ],
   "source": [
    "# Neuron Test\n",
    "n = mc.Neuron()\n",
    "n.energyLeak = .1\n",
    "n.peakEnergy = 2.\n",
    "for i in range(50):\n",
    "    n.onSignal(i, .2)\n",
    "    tick_rc = n.onTick(i)\n",
    "    print(f\"iter({i}) {n} ticks with {tick_rc} result \")"
   ]
  },
  {
   "cell_type": "code",
   "execution_count": null,
   "id": "0a5c74be",
   "metadata": {},
   "outputs": [],
   "source": []
  },
  {
   "cell_type": "code",
   "execution_count": null,
   "id": "b261d185",
   "metadata": {},
   "outputs": [],
   "source": []
  },
  {
   "cell_type": "code",
   "execution_count": null,
   "id": "3a233f61",
   "metadata": {},
   "outputs": [],
   "source": []
  }
 ],
 "metadata": {
  "kernelspec": {
   "display_name": "Python 3",
   "language": "python",
   "name": "python3"
  },
  "language_info": {
   "codemirror_mode": {
    "name": "ipython",
    "version": 3
   },
   "file_extension": ".py",
   "mimetype": "text/x-python",
   "name": "python",
   "nbconvert_exporter": "python",
   "pygments_lexer": "ipython3",
   "version": "3.10.12"
  }
 },
 "nbformat": 4,
 "nbformat_minor": 5
}
