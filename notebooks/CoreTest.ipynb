{
 "cells": [
  {
   "cell_type": "code",
   "execution_count": 1,
   "id": "637b432c",
   "metadata": {
    "colab": {
     "base_uri": "https://localhost:8080/",
     "height": 17
    },
    "executionInfo": {
     "elapsed": 66,
     "status": "ok",
     "timestamp": 1743172665265,
     "user": {
      "displayName": "Эдвард Элрик",
      "userId": "05451790743064473833"
     },
     "user_tz": -180
    },
    "id": "637b432c",
    "outputId": "54dedffa-9411-45f1-b562-63208e483d54"
   },
   "outputs": [
    {
     "data": {
      "application/javascript": [
       "IPython.OutputArea.prototype._should_scroll = function(lines) {\n",
       "    return false;\n",
       "}\n"
      ],
      "text/plain": [
       "<IPython.core.display.Javascript object>"
      ]
     },
     "metadata": {},
     "output_type": "display_data"
    }
   ],
   "source": [
    "%%javascript\n",
    "IPython.OutputArea.prototype._should_scroll = function(lines) {\n",
    "    return false;\n",
    "}"
   ]
  },
  {
   "cell_type": "code",
   "execution_count": 2,
   "id": "RB-5tMlAdOAj",
   "metadata": {
    "executionInfo": {
     "elapsed": 7,
     "status": "ok",
     "timestamp": 1743172665268,
     "user": {
      "displayName": "Эдвард Элрик",
      "userId": "05451790743064473833"
     },
     "user_tz": -180
    },
    "id": "RB-5tMlAdOAj"
   },
   "outputs": [],
   "source": [
    "try:\n",
    "  import google.colab\n",
    "  IN_COLAB = True\n",
    "except:\n",
    "  IN_COLAB = False\n"
   ]
  },
  {
   "cell_type": "code",
   "execution_count": 3,
   "id": "f4008ca8",
   "metadata": {
    "executionInfo": {
     "elapsed": 7,
     "status": "ok",
     "timestamp": 1743172665270,
     "user": {
      "displayName": "Эдвард Элрик",
      "userId": "05451790743064473833"
     },
     "user_tz": -180
    },
    "id": "f4008ca8"
   },
   "outputs": [],
   "source": [
    "if not IN_COLAB:\n",
    "  %load_ext autoreload\n",
    "  %autoreload 2\n",
    "  %load_ext dotenv\n",
    "  %dotenv"
   ]
  },
  {
   "cell_type": "code",
   "execution_count": 4,
   "id": "8f60ef4a",
   "metadata": {
    "colab": {
     "base_uri": "https://localhost:8080/"
    },
    "executionInfo": {
     "elapsed": 8386,
     "status": "ok",
     "timestamp": 1743173298778,
     "user": {
      "displayName": "Эдвард Элрик",
      "userId": "05451790743064473833"
     },
     "user_tz": -180
    },
    "id": "8f60ef4a",
    "outputId": "d8cde7ed-8721-4380-d14e-bdf99393c911"
   },
   "outputs": [
    {
     "name": "stdout",
     "output_type": "stream",
     "text": [
      "/home/jovyan/work/ml/ml-learning/ml-learning/MgennPy\n",
      "Requirement already satisfied: ipython in /opt/conda/lib/python3.11/site-packages (from -r ../requirements.txt (line 1)) (8.31.0)\n",
      "Requirement already satisfied: jycm in /opt/conda/lib/python3.11/site-packages (from -r ../requirements.txt (line 2)) (1.5.0)\n",
      "Requirement already satisfied: matplotlib in /opt/conda/lib/python3.11/site-packages (from -r ../requirements.txt (line 3)) (3.9.2)\n",
      "Requirement already satisfied: networkx in /opt/conda/lib/python3.11/site-packages (from -r ../requirements.txt (line 4)) (3.4.2)\n",
      "Requirement already satisfied: numpy in /opt/conda/lib/python3.11/site-packages (from -r ../requirements.txt (line 5)) (1.26.4)\n",
      "Requirement already satisfied: pyvis in /opt/conda/lib/python3.11/site-packages (from -r ../requirements.txt (line 6)) (0.3.1)\n",
      "Requirement already satisfied: Requests in /opt/conda/lib/python3.11/site-packages (from -r ../requirements.txt (line 7)) (2.32.3)\n",
      "Requirement already satisfied: pandas in /opt/conda/lib/python3.11/site-packages (from -r ../requirements.txt (line 8)) (2.2.3)\n",
      "Requirement already satisfied: lazydocs in /opt/conda/lib/python3.11/site-packages (from -r ../requirements.txt (line 9)) (0.4.8)\n",
      "Requirement already satisfied: pytest-xdist in /opt/conda/lib/python3.11/site-packages (from -r ../requirements.txt (line 10)) (3.6.1)\n",
      "Requirement already satisfied: unittest-parallel in /opt/conda/lib/python3.11/site-packages (from -r ../requirements.txt (line 11)) (1.7.1)\n",
      "Requirement already satisfied: humanize in /opt/conda/lib/python3.11/site-packages (from -r ../requirements.txt (line 12)) (4.11.0)\n",
      "Requirement already satisfied: jsonpickle in /opt/conda/lib/python3.11/site-packages (from -r ../requirements.txt (line 13)) (4.0.0)\n",
      "Requirement already satisfied: hypothesis in /opt/conda/lib/python3.11/site-packages (from -r ../requirements.txt (line 14)) (6.130.5)\n",
      "Requirement already satisfied: psycopg2-binary in /opt/conda/lib/python3.11/site-packages (from -r ../requirements.txt (line 15)) (2.9.10)\n",
      "Requirement already satisfied: python-dotenv in /opt/conda/lib/python3.11/site-packages (from -r ../requirements.txt (line 16)) (1.0.1)\n",
      "Requirement already satisfied: torch in /opt/conda/lib/python3.11/site-packages (from -r ../requirements.txt (line 17)) (2.4.0)\n",
      "Requirement already satisfied: torchvision in /opt/conda/lib/python3.11/site-packages (from -r ../requirements.txt (line 18)) (0.19.1a0+ee30128)\n",
      "Requirement already satisfied: torchaudio in /opt/conda/lib/python3.11/site-packages (from -r ../requirements.txt (line 19)) (2.4.0)\n",
      "Requirement already satisfied: tensorflow in /opt/conda/lib/python3.11/site-packages (from -r ../requirements.txt (line 20)) (2.18.0)\n",
      "Requirement already satisfied: pympler in /opt/conda/lib/python3.11/site-packages (from -r ../requirements.txt (line 21)) (1.1)\n",
      "Requirement already satisfied: numba in /opt/conda/lib/python3.11/site-packages (from -r ../requirements.txt (line 22)) (0.60.0)\n",
      "Requirement already satisfied: tabulate in /opt/conda/lib/python3.11/site-packages (from -r ../requirements.txt (line 23)) (0.9.0)\n",
      "Requirement already satisfied: snakeviz in /opt/conda/lib/python3.11/site-packages (from -r ../requirements.txt (line 24)) (2.2.2)\n",
      "Requirement already satisfied: line_profiler in /opt/conda/lib/python3.11/site-packages (from -r ../requirements.txt (line 25)) (4.1.3)\n",
      "Requirement already satisfied: memory_profiler in /opt/conda/lib/python3.11/site-packages (from -r ../requirements.txt (line 26)) (0.61.0)\n",
      "Requirement already satisfied: py-spy in /opt/conda/lib/python3.11/site-packages (from -r ../requirements.txt (line 27)) (0.4.0)\n",
      "Requirement already satisfied: decorator in /opt/conda/lib/python3.11/site-packages (from ipython->-r ../requirements.txt (line 1)) (5.1.1)\n",
      "Requirement already satisfied: jedi>=0.16 in /opt/conda/lib/python3.11/site-packages (from ipython->-r ../requirements.txt (line 1)) (0.19.2)\n",
      "Requirement already satisfied: matplotlib-inline in /opt/conda/lib/python3.11/site-packages (from ipython->-r ../requirements.txt (line 1)) (0.1.7)\n",
      "Requirement already satisfied: pexpect>4.3 in /opt/conda/lib/python3.11/site-packages (from ipython->-r ../requirements.txt (line 1)) (4.9.0)\n",
      "Requirement already satisfied: prompt_toolkit<3.1.0,>=3.0.41 in /opt/conda/lib/python3.11/site-packages (from ipython->-r ../requirements.txt (line 1)) (3.0.48)\n",
      "Requirement already satisfied: pygments>=2.4.0 in /opt/conda/lib/python3.11/site-packages (from ipython->-r ../requirements.txt (line 1)) (2.18.0)\n",
      "Requirement already satisfied: stack_data in /opt/conda/lib/python3.11/site-packages (from ipython->-r ../requirements.txt (line 1)) (0.6.3)\n",
      "Requirement already satisfied: traitlets>=5.13.0 in /opt/conda/lib/python3.11/site-packages (from ipython->-r ../requirements.txt (line 1)) (5.14.3)\n",
      "Requirement already satisfied: typing_extensions>=4.6 in /opt/conda/lib/python3.11/site-packages (from ipython->-r ../requirements.txt (line 1)) (4.12.2)\n",
      "Requirement already satisfied: six<2.0.0,>=1.11.0 in /opt/conda/lib/python3.11/site-packages (from jycm->-r ../requirements.txt (line 2)) (1.17.0)\n",
      "Requirement already satisfied: click>=8.0.0 in /opt/conda/lib/python3.11/site-packages (from jycm->-r ../requirements.txt (line 2)) (8.1.8)\n",
      "Requirement already satisfied: contourpy>=1.0.1 in /opt/conda/lib/python3.11/site-packages (from matplotlib->-r ../requirements.txt (line 3)) (1.3.1)\n",
      "Requirement already satisfied: cycler>=0.10 in /opt/conda/lib/python3.11/site-packages (from matplotlib->-r ../requirements.txt (line 3)) (0.12.1)\n",
      "Requirement already satisfied: fonttools>=4.22.0 in /opt/conda/lib/python3.11/site-packages (from matplotlib->-r ../requirements.txt (line 3)) (4.55.3)\n",
      "Requirement already satisfied: kiwisolver>=1.3.1 in /opt/conda/lib/python3.11/site-packages (from matplotlib->-r ../requirements.txt (line 3)) (1.4.7)\n",
      "Requirement already satisfied: packaging>=20.0 in /opt/conda/lib/python3.11/site-packages (from matplotlib->-r ../requirements.txt (line 3)) (24.2)\n",
      "Requirement already satisfied: pillow>=8 in /opt/conda/lib/python3.11/site-packages (from matplotlib->-r ../requirements.txt (line 3)) (11.0.0)\n",
      "Requirement already satisfied: pyparsing>=2.3.1 in /opt/conda/lib/python3.11/site-packages (from matplotlib->-r ../requirements.txt (line 3)) (3.2.1)\n",
      "Requirement already satisfied: python-dateutil>=2.7 in /opt/conda/lib/python3.11/site-packages (from matplotlib->-r ../requirements.txt (line 3)) (2.9.0.post0)\n",
      "Requirement already satisfied: jinja2>=2.9.6 in /opt/conda/lib/python3.11/site-packages (from pyvis->-r ../requirements.txt (line 6)) (3.1.5)\n",
      "Requirement already satisfied: charset-normalizer<4,>=2 in /opt/conda/lib/python3.11/site-packages (from Requests->-r ../requirements.txt (line 7)) (3.4.1)\n",
      "Requirement already satisfied: idna<4,>=2.5 in /opt/conda/lib/python3.11/site-packages (from Requests->-r ../requirements.txt (line 7)) (3.10)\n",
      "Requirement already satisfied: urllib3<3,>=1.21.1 in /opt/conda/lib/python3.11/site-packages (from Requests->-r ../requirements.txt (line 7)) (2.3.0)\n",
      "Requirement already satisfied: certifi>=2017.4.17 in /opt/conda/lib/python3.11/site-packages (from Requests->-r ../requirements.txt (line 7)) (2024.12.14)\n",
      "Requirement already satisfied: pytz>=2020.1 in /opt/conda/lib/python3.11/site-packages (from pandas->-r ../requirements.txt (line 8)) (2024.2)\n",
      "Requirement already satisfied: tzdata>=2022.7 in /opt/conda/lib/python3.11/site-packages (from pandas->-r ../requirements.txt (line 8)) (2024.2)\n",
      "Requirement already satisfied: typer in /opt/conda/lib/python3.11/site-packages (from lazydocs->-r ../requirements.txt (line 9)) (0.15.2)\n",
      "Requirement already satisfied: execnet>=2.1 in /opt/conda/lib/python3.11/site-packages (from pytest-xdist->-r ../requirements.txt (line 10)) (2.1.1)\n",
      "Requirement already satisfied: pytest>=7.0.0 in /opt/conda/lib/python3.11/site-packages (from pytest-xdist->-r ../requirements.txt (line 10)) (8.3.5)\n",
      "Requirement already satisfied: coverage>=5.1 in /opt/conda/lib/python3.11/site-packages (from unittest-parallel->-r ../requirements.txt (line 11)) (7.7.1)\n",
      "Requirement already satisfied: attrs>=22.2.0 in /opt/conda/lib/python3.11/site-packages (from hypothesis->-r ../requirements.txt (line 14)) (24.3.0)\n",
      "Requirement already satisfied: sortedcontainers<3.0.0,>=2.1.0 in /opt/conda/lib/python3.11/site-packages (from hypothesis->-r ../requirements.txt (line 14)) (2.4.0)\n",
      "Requirement already satisfied: filelock in /opt/conda/lib/python3.11/site-packages (from torch->-r ../requirements.txt (line 17)) (3.16.1)\n",
      "Requirement already satisfied: sympy in /opt/conda/lib/python3.11/site-packages (from torch->-r ../requirements.txt (line 17)) (1.13.3)\n",
      "Requirement already satisfied: fsspec in /opt/conda/lib/python3.11/site-packages (from torch->-r ../requirements.txt (line 17)) (2024.12.0)\n",
      "Requirement already satisfied: absl-py>=1.0.0 in /opt/conda/lib/python3.11/site-packages (from tensorflow->-r ../requirements.txt (line 20)) (2.1.0)\n",
      "Requirement already satisfied: astunparse>=1.6.0 in /opt/conda/lib/python3.11/site-packages (from tensorflow->-r ../requirements.txt (line 20)) (1.6.3)\n",
      "Requirement already satisfied: flatbuffers>=24.3.25 in /opt/conda/lib/python3.11/site-packages (from tensorflow->-r ../requirements.txt (line 20)) (24.3.25)\n",
      "Requirement already satisfied: gast!=0.5.0,!=0.5.1,!=0.5.2,>=0.2.1 in /opt/conda/lib/python3.11/site-packages (from tensorflow->-r ../requirements.txt (line 20)) (0.6.0)\n",
      "Requirement already satisfied: google-pasta>=0.1.1 in /opt/conda/lib/python3.11/site-packages (from tensorflow->-r ../requirements.txt (line 20)) (0.2.0)\n",
      "Requirement already satisfied: libclang>=13.0.0 in /opt/conda/lib/python3.11/site-packages (from tensorflow->-r ../requirements.txt (line 20)) (18.1.1)\n",
      "Requirement already satisfied: opt-einsum>=2.3.2 in /opt/conda/lib/python3.11/site-packages (from tensorflow->-r ../requirements.txt (line 20)) (3.4.0)\n",
      "Requirement already satisfied: protobuf!=4.21.0,!=4.21.1,!=4.21.2,!=4.21.3,!=4.21.4,!=4.21.5,<6.0.0dev,>=3.20.3 in /opt/conda/lib/python3.11/site-packages (from tensorflow->-r ../requirements.txt (line 20)) (4.25.3)\n",
      "Requirement already satisfied: setuptools in /opt/conda/lib/python3.11/site-packages (from tensorflow->-r ../requirements.txt (line 20)) (75.6.0)\n",
      "Requirement already satisfied: termcolor>=1.1.0 in /opt/conda/lib/python3.11/site-packages (from tensorflow->-r ../requirements.txt (line 20)) (2.5.0)\n",
      "Requirement already satisfied: wrapt>=1.11.0 in /opt/conda/lib/python3.11/site-packages (from tensorflow->-r ../requirements.txt (line 20)) (1.17.0)\n",
      "Requirement already satisfied: grpcio<2.0,>=1.24.3 in /opt/conda/lib/python3.11/site-packages (from tensorflow->-r ../requirements.txt (line 20)) (1.62.2)\n",
      "Requirement already satisfied: tensorboard<2.19,>=2.18 in /opt/conda/lib/python3.11/site-packages (from tensorflow->-r ../requirements.txt (line 20)) (2.18.0)\n",
      "Requirement already satisfied: keras>=3.5.0 in /opt/conda/lib/python3.11/site-packages (from tensorflow->-r ../requirements.txt (line 20)) (3.7.0)\n",
      "Requirement already satisfied: h5py>=3.11.0 in /opt/conda/lib/python3.11/site-packages (from tensorflow->-r ../requirements.txt (line 20)) (3.12.1)\n",
      "Requirement already satisfied: ml-dtypes<0.5.0,>=0.4.0 in /opt/conda/lib/python3.11/site-packages (from tensorflow->-r ../requirements.txt (line 20)) (0.4.1)\n",
      "Requirement already satisfied: tensorflow-io-gcs-filesystem>=0.23.1 in /opt/conda/lib/python3.11/site-packages (from tensorflow->-r ../requirements.txt (line 20)) (0.37.1)\n",
      "Requirement already satisfied: llvmlite<0.44,>=0.43.0dev0 in /opt/conda/lib/python3.11/site-packages (from numba->-r ../requirements.txt (line 22)) (0.43.0)\n",
      "Requirement already satisfied: tornado>=2.0 in /opt/conda/lib/python3.11/site-packages (from snakeviz->-r ../requirements.txt (line 24)) (6.4.2)\n",
      "Requirement already satisfied: psutil in /opt/conda/lib/python3.11/site-packages (from memory_profiler->-r ../requirements.txt (line 26)) (6.1.1)\n",
      "Requirement already satisfied: wheel<1.0,>=0.23.0 in /opt/conda/lib/python3.11/site-packages (from astunparse>=1.6.0->tensorflow->-r ../requirements.txt (line 20)) (0.45.1)\n",
      "Requirement already satisfied: parso<0.9.0,>=0.8.4 in /opt/conda/lib/python3.11/site-packages (from jedi>=0.16->ipython->-r ../requirements.txt (line 1)) (0.8.4)\n",
      "Requirement already satisfied: MarkupSafe>=2.0 in /opt/conda/lib/python3.11/site-packages (from jinja2>=2.9.6->pyvis->-r ../requirements.txt (line 6)) (3.0.2)\n",
      "Requirement already satisfied: rich in /opt/conda/lib/python3.11/site-packages (from keras>=3.5.0->tensorflow->-r ../requirements.txt (line 20)) (13.9.4)\n",
      "Requirement already satisfied: namex in /opt/conda/lib/python3.11/site-packages (from keras>=3.5.0->tensorflow->-r ../requirements.txt (line 20)) (0.0.8)\n",
      "Requirement already satisfied: optree in /opt/conda/lib/python3.11/site-packages (from keras>=3.5.0->tensorflow->-r ../requirements.txt (line 20)) (0.13.1)\n",
      "Requirement already satisfied: ptyprocess>=0.5 in /opt/conda/lib/python3.11/site-packages (from pexpect>4.3->ipython->-r ../requirements.txt (line 1)) (0.7.0)\n",
      "Requirement already satisfied: wcwidth in /opt/conda/lib/python3.11/site-packages (from prompt_toolkit<3.1.0,>=3.0.41->ipython->-r ../requirements.txt (line 1)) (0.2.13)\n",
      "Requirement already satisfied: iniconfig in /opt/conda/lib/python3.11/site-packages (from pytest>=7.0.0->pytest-xdist->-r ../requirements.txt (line 10)) (2.1.0)\n",
      "Requirement already satisfied: pluggy<2,>=1.5 in /opt/conda/lib/python3.11/site-packages (from pytest>=7.0.0->pytest-xdist->-r ../requirements.txt (line 10)) (1.5.0)\n",
      "Requirement already satisfied: markdown>=2.6.8 in /opt/conda/lib/python3.11/site-packages (from tensorboard<2.19,>=2.18->tensorflow->-r ../requirements.txt (line 20)) (3.6)\n",
      "Requirement already satisfied: tensorboard-data-server<0.8.0,>=0.7.0 in /opt/conda/lib/python3.11/site-packages (from tensorboard<2.19,>=2.18->tensorflow->-r ../requirements.txt (line 20)) (0.7.0)\n",
      "Requirement already satisfied: werkzeug>=1.0.1 in /opt/conda/lib/python3.11/site-packages (from tensorboard<2.19,>=2.18->tensorflow->-r ../requirements.txt (line 20)) (3.1.3)\n",
      "Requirement already satisfied: executing>=1.2.0 in /opt/conda/lib/python3.11/site-packages (from stack_data->ipython->-r ../requirements.txt (line 1)) (2.1.0)\n",
      "Requirement already satisfied: asttokens>=2.1.0 in /opt/conda/lib/python3.11/site-packages (from stack_data->ipython->-r ../requirements.txt (line 1)) (3.0.0)\n",
      "Requirement already satisfied: pure_eval in /opt/conda/lib/python3.11/site-packages (from stack_data->ipython->-r ../requirements.txt (line 1)) (0.2.3)\n",
      "Requirement already satisfied: mpmath<1.4,>=1.1.0 in /opt/conda/lib/python3.11/site-packages (from sympy->torch->-r ../requirements.txt (line 17)) (1.3.0)\n",
      "Requirement already satisfied: shellingham>=1.3.0 in /opt/conda/lib/python3.11/site-packages (from typer->lazydocs->-r ../requirements.txt (line 9)) (1.5.4)\n",
      "Requirement already satisfied: markdown-it-py>=2.2.0 in /opt/conda/lib/python3.11/site-packages (from rich->keras>=3.5.0->tensorflow->-r ../requirements.txt (line 20)) (3.0.0)\n",
      "Requirement already satisfied: mdurl~=0.1 in /opt/conda/lib/python3.11/site-packages (from markdown-it-py>=2.2.0->rich->keras>=3.5.0->tensorflow->-r ../requirements.txt (line 20)) (0.1.2)\n"
     ]
    }
   ],
   "source": [
    "import sys\n",
    "import os\n",
    "from pathlib import Path\n",
    "if not IN_COLAB:\n",
    "  print(Path(os.getcwd()).parent.absolute())\n",
    "  sys.path.append(os.path.dirname(os.getcwd()))\n",
    "  sys.path.append(Path(os.getcwd()).parent.absolute())\n",
    "  !pip install -r \"../requirements.txt\"\n",
    "else:\n",
    "  from google.colab import drive\n",
    "  drive.mount('/content/drive')\n",
    "  sys.path.append(\"/content/drive/MyDrive/Colab Notebooks/MgennPy\")\n",
    "  !pip install -r \"/content/drive/MyDrive/Colab Notebooks/MgennPy/requirements.txt\"\n",
    "\n"
   ]
  },
  {
   "cell_type": "code",
   "execution_count": 5,
   "id": "60fc0a27",
   "metadata": {
    "executionInfo": {
     "elapsed": 4,
     "status": "ok",
     "timestamp": 1743173305607,
     "user": {
      "displayName": "Эдвард Элрик",
      "userId": "05451790743064473833"
     },
     "user_tz": -180
    },
    "id": "60fc0a27"
   },
   "outputs": [
    {
     "data": {
      "text/plain": [
       "'Y'"
      ]
     },
     "execution_count": 5,
     "metadata": {},
     "output_type": "execute_result"
    }
   ],
   "source": [
    "import os\n",
    "import random\n",
    "import socket\n",
    "import inspect\n",
    "import numpy as np\n",
    "import pandas as pd\n",
    "import torch\n",
    "import itertools\n",
    "from torchvision import datasets, transforms\n",
    "import matplotlib.pyplot as plt\n",
    "import tqdm\n",
    "from examples import *\n",
    "import mcore as mc\n",
    "from common import *\n",
    "from common import storage as mstorage\n",
    "import cProfile\n",
    "RobotsLogger.default = RobotsLogger()\n",
    "\n",
    "#set debug\n",
    "F.make_verbose()\n",
    "os.environ[\"MGENN_DEBUG\"]"
   ]
  },
  {
   "cell_type": "code",
   "execution_count": 6,
   "id": "6c7d8a71-047b-40dd-b7b2-7ffb3587598d",
   "metadata": {},
   "outputs": [],
   "source": [
    "class MockInputSource:\n",
    "    def __init__(self) -> None:\n",
    "        self.headers = []\n",
    "    def setHeaders(self, headers:list):\n",
    "        self.headers = headers\n",
    "    def getIRow(self, tick):\n",
    "        raise NotImplementedError(\"implementation missed \")\n",
    "    def ready(self):\n",
    "        return True\n",
    "\n",
    "def make_in_df():\n",
    "    return pd.DataFrame({'A': [1, 2, 3], 'B': [4, 5, 6]})\n",
    "\n",
    "@W.timeit\n",
    "def cleanup(sids_to_remove, storage):\n",
    "    for sid in sids_to_remove:\n",
    "        storage.erase_snapshot(sid)\n",
    "\n",
    "@W.timeit\n",
    "def fill_ar(storage, count = 10, randomize_labels = True):\n",
    "    def neuron_builder(l_index):\n",
    "        leak = random.uniform(0.1, 1.1)\n",
    "        peak = random.uniform(5.0, 10.0)\n",
    "        return (leak, peak)\n",
    "    def link_builder(from_id, to_id):\n",
    "        apt = random.uniform(0.2, 1.1)\n",
    "        length = 1\n",
    "        return (apt, length)\n",
    "    \n",
    "    struct_builder = mc.StructsBuilder()\n",
    "    \n",
    "    sids = []\n",
    "    labels = []\n",
    "    default_label=\"TEST_GRP\"\n",
    "    try:\n",
    "        for _ in range(count):\n",
    "            pkg = Package.make_empty()\n",
    "            if not pkg.isValid():\n",
    "                raise ValueError(\"invalid pkg\")\n",
    "            layer1_name, layer1_ids, pkg = struct_builder.make_layer(\n",
    "                pkg,\n",
    "                size=3,\n",
    "                config_builder=neuron_builder\n",
    "            )\n",
    "            \n",
    "            # Creating the second layer with 3 neurons\n",
    "            layer2_name, layer2_ids, pkg = struct_builder.make_layer(pkg, size=3,\n",
    "                config_builder=neuron_builder\n",
    "            )\n",
    "            \n",
    "            # Connecting two layers 1-to-1\n",
    "            _, pkg = struct_builder.connect_layers_1_1(\n",
    "                pkg,\n",
    "                l=layer1_ids,\n",
    "                r=layer2_ids,\n",
    "                link_builder=link_builder\n",
    "            )\n",
    "            \n",
    "            # Creating a grid of 2x2 neurons\n",
    "            grid_shape = (2, 2)\n",
    "            grid_layer_name, grid_inexes, pkg = struct_builder.make_ngrid(\n",
    "                pkg,\n",
    "                shape=grid_shape,\n",
    "                config_builder=neuron_builder\n",
    "            )\n",
    "            \n",
    "            # Adding structure information to the package\n",
    "            structure_hints = {\n",
    "                layer1_name: layer1_ids,\n",
    "                layer2_name: layer2_ids,\n",
    "                grid_layer_name: grid_inexes\n",
    "            }\n",
    "            pkg.addStructureHints(structure_hints)\n",
    "            \n",
    "            # Checking operation success\n",
    "            if not pkg.isValid():\n",
    "                raise ValueError(\"package building error\")\n",
    "            \n",
    "            # Saving the package to storage\n",
    "            label = default_label\n",
    "            if randomize_labels:\n",
    "                label=f\"GROUP_{F.generateToken()}\"\n",
    "            labels.append(label)\n",
    "            sids.append(pkg.id())\n",
    "            storage.on_exec_done(pkg, rank=1, outputs=make_in_df(), label=label, telemetry = {}, ex = {})\n",
    "        \n",
    "    except ValueError as ve:\n",
    "        F.print(f\"ValueError: {ve}\")\n",
    "        raise ve\n",
    "    except Exception as e:\n",
    "        F.print(f\"unknown error: {e}\")\n",
    "        raise e\n",
    "    \n",
    "    return sids, labels\n"
   ]
  },
  {
   "cell_type": "code",
   "execution_count": 7,
   "id": "578ed587-01b7-4f4c-a959-746c87a42069",
   "metadata": {},
   "outputs": [],
   "source": [
    "@W.timeit\n",
    "def push_new_exec_done(storage):\n",
    "    pkg = mc.Package()\n",
    "    pkg.loadFile(f\"{os.getcwd()}/tests/test_data/namespacetest_rev0.pkg\")\n",
    "    cid = pkg.renew_id()\n",
    "    sid = pkg.id()\n",
    "    storage.erase_snapshot(sid)\n",
    "    storage.on_exec_done(pkg, 33, make_in_df())\n",
    "    return cid, pkg\n",
    "\n",
    "@W.timeit\n",
    "def push_new_exec_ready(storage):\n",
    "    pkg = mc.Package()\n",
    "    pkg.loadFile(f\"{os.getcwd()}/../tests/test_data/namespacetest_rev0.pkg\")\n",
    "    cid = pkg.renew_id()\n",
    "    sid = pkg.id()\n",
    "    storage.erase_snapshot(sid)\n",
    "    storage.on_ready_for_exec(pkg, 33)\n",
    "    return cid, pkg\n",
    "\n",
    "@W.timeit\n",
    "def example_save_pkg():\n",
    "    F.set_print_token(inspect.currentframe().f_code.co_name)\n",
    "    db_conf = mstorage.PG_Pool.db_conf_from_env()\n",
    "    pool = mstorage.PG_Pool(db_conf)\n",
    "    storage = mstorage.MgennStorage(pool)\n",
    "    storage.pedantic_validation = True\n",
    "    storage.init()\n",
    "    pkg_path = f\"{os.getcwd()}/tests/test_data/namespacetest_rev0.pkg\"\n",
    "    pkg = mc.Package()\n",
    "    pkg.loadFile(pkg_path)\n",
    "    df = make_in_df()\n",
    "    sid = pkg.id()\n",
    "    storage.erase_snapshot(sid)\n",
    "    storage.on_exec_done(pkg, 33, df)\n",
    "    F.set_print_token(\"\")\n",
    "\n",
    "@W.timeit\n",
    "def example_analyzer_checkout():\n",
    "    F.set_print_token(inspect.currentframe().f_code.co_name)\n",
    "    db_conf = mstorage.PG_Pool.db_conf_from_env()\n",
    "    pool = mstorage.PG_Pool(db_conf)\n",
    "    storage = mstorage.MgennStorage(pool)\n",
    "    storage.pedantic_validation = True\n",
    "    storage.init()\n",
    "\n",
    "    # make new unic snapshot and save\n",
    "    pkg = PackageUtils.makeRandomContent(mc.Package.make_empty(), PkgSizePreset.Small)\n",
    "    df = make_in_df()\n",
    "    sid = pkg.id()\n",
    "    storage.erase_snapshot(sid)\n",
    "    storage.on_exec_done(pkg, 33, df)\n",
    "\n",
    "    # checkout it\n",
    "    print(f\"db stats (before_co) {storage.stats()}\")\n",
    "    job, pkg = storage.checkout_analizer_job(sid)\n",
    "    if not job or not isinstance(job, mstorage.AnalizerJob) or not job.isValid():\n",
    "        raise ValueError(\"no job!\")\n",
    "    if not pkg or not pkg.isValid():\n",
    "        raise ValueError(\"no pkg!\")\n",
    "    pkg.pretty_print()\n",
    "    print(f\"#1 has a job! {job}. sid in {storage.find_snapshot(job.snapshot_id).value}\")\n",
    "    print(f\"#2 has a pkg! sz:{len(pkg)}\")\n",
    "    print(f\"db stats (after co){storage.stats()}\")\n",
    "    storage.undo_analyzer_checkout(job.snapshot_id)\n",
    "    print(f\"#3 undo ok sid in {storage.find_snapshot(job.snapshot_id).value}\")\n",
    "    print(f\"db stats {storage.stats()}\")\n",
    "    F.set_print_token(\"\")"
   ]
  },
  {
   "cell_type": "code",
   "execution_count": 8,
   "id": "dd7c8141-437b-44ed-b275-d1def98fedd2",
   "metadata": {},
   "outputs": [],
   "source": [
    "\n",
    "# Define a transform to normalize the data\n",
    "transform = transforms.Compose([transforms.ToTensor(), transforms.Normalize((0.5,), (0.5,))])\n",
    "batch_size = 64\n",
    "# Download and load the training data\n",
    "trainset = datasets.MNIST(root='./data', train=True, download=True, transform=transform)\n",
    "trainloader = torch.utils.data.DataLoader(trainset, batch_size=batch_size, shuffle=True)\n",
    "\n",
    "# Download and load the test data\n",
    "testset = datasets.MNIST(root='./data', train=False, download=True, transform=transform)\n",
    "testloader = torch.utils.data.DataLoader(testset, batch_size=batch_size, shuffle=False)\n"
   ]
  },
  {
   "cell_type": "code",
   "execution_count": 9,
   "id": "aac90d7d-4fc7-45c4-bbfc-b12ab04952ce",
   "metadata": {},
   "outputs": [
    {
     "data": {
      "image/png": "[encoded data removed]",
      "text/plain": [
       "<Figure size 800x800 with 16 Axes>"
      ]
     },
     "metadata": {},
     "output_type": "display_data"
    }
   ],
   "source": [
    "def get_next(loader):\n",
    "    images, labels = next(iter(loader))\n",
    "    return images, labels\n",
    "\n",
    "def visualize_batch(train_loader):\n",
    "    # Get one batch of training data\n",
    "    \n",
    "    images, labels = get_next(train_loader)\n",
    "    # Plot images in the batch\n",
    "    fig = plt.figure(figsize=(8, 8))\n",
    "    for i in range(16):\n",
    "        plt.subplot(4, 4, i+1)\n",
    "        plt.imshow(images[i][0], cmap='gray')  # [0] to remove channel dimension\n",
    "        plt.title(f\"Label: {labels[i].item()}\")\n",
    "        plt.axis('off')\n",
    "    plt.show()\n",
    "\n",
    "def scale_to_amplitude(arr, amplitude):\n",
    "    scaled_0_1 = (arr + 1.0) / 2.0\n",
    "    return scaled_0_1 * amplitude\n",
    "\n",
    "visualize_batch(trainloader)"
   ]
  },
  {
   "cell_type": "code",
   "execution_count": 10,
   "id": "fd14593d-2251-41fe-8918-3a59757c967c",
   "metadata": {},
   "outputs": [],
   "source": [
    "\n",
    "struct_builder = mc.StructsBuilder()\n",
    "def connect_inputs_all(pkg, l, r, link_builder, break_limit = 0):\n",
    "    if not pkg.isValid():\n",
    "        raise ValueError(\"invalid pkg\")\n",
    "    if isinstance(r, np.ndarray):\n",
    "        r = mc.StructsBuilder.grid_to_list(r)\n",
    "    links = []\n",
    "    i = 0\n",
    "    for li, ri in F.iter(list(itertools.product(l, r))):\n",
    "        i+=1\n",
    "        if break_limit and i >= break_limit:\n",
    "            print(f\"break agter {i} iterations\")\n",
    "            break\n",
    "        apt, length = link_builder(li, ri)\n",
    "        lnk = pkg.new_link_between(apt, length, li, ri)\n",
    "        links.append(lnk)\n",
    "    return links, pkg\n",
    "\n",
    "\n",
    "def make_input_ngrid(pkg, shape:tuple, name_builder, layer_name=\"\"):\n",
    "    if not shape or not name_builder:\n",
    "        raise ValueError(\"invalid params\")\n",
    "    if not pkg.isValid():\n",
    "        raise ValueError(\"invalid pkg\")\n",
    "    names = []\n",
    "    for i in F.iter(itertools.product(*[range(dim) for dim in shape])):\n",
    "        name = name_builder(i, pkg)\n",
    "        pkg.new_tape_input(name, [])\n",
    "        names.append(name)\n",
    "    if not layer_name:\n",
    "        layer_name = f\"igrid_{F.generateToken()}\"\n",
    "    pkg.addStructureHints({layer_name: names})\n",
    "    return (layer_name, names, pkg)\n",
    "    \n",
    "def neuron_builder(l_index):\n",
    "    leak = random.uniform(0.1, 1.1)\n",
    "    peak = random.uniform(5.0, 10.0)\n",
    "    return (leak, peak)\n",
    "def link_builder(from_id, to_id):\n",
    "    apt = random.uniform(0.2, 1.1)\n",
    "    length = 1\n",
    "    return (apt, length)\n",
    "def name_builder(i, pkg):\n",
    "    name = f\"input_{i}\"\n",
    "    if isinstance(i, tuple) or isinstance(i, list) or isinstance(i, set):\n",
    "        name = \"input_\" + '.'.join(str(x) for x in i) if i else ''\n",
    "    oname = name\n",
    "    salt = 0\n",
    "    while name in pkg.inputs:\n",
    "        # dup\n",
    "        name = f\"{oname}_{salt}\"\n",
    "        salt += 1\n",
    "    return name\n",
    "\n"
   ]
  },
  {
   "cell_type": "code",
   "execution_count": 11,
   "id": "91c79bea-e58f-4c95-b691-1d2a07cc78a3",
   "metadata": {},
   "outputs": [
    {
     "name": "stdout",
     "output_type": "stream",
     "text": [
      "count: 64 shape = torch.Size([1, 28, 28])\n",
      "img shape: (28, 28) range:-1.0 - 1.0\n",
      "scale...\n",
      "img shape: (28, 28) range:0.0 - 5.0\n"
     ]
    }
   ],
   "source": [
    "images, labels = get_next(trainloader)\n",
    "amp = 5.0\n",
    "print(f\"count: {len(images)} shape = {images[0].shape}\")\n",
    "      \n",
    "values = images.flatten().detach().cpu().numpy()\n",
    "s_values = images[0].detach().cpu().numpy()[0]\n",
    "print(f\"img shape: {s_values.shape} range:{np.min(s_values)} - {np.max(s_values)}\")\n",
    "print(\"scale...\")\n",
    "s_values = scale_to_amplitude(s_values, amp)\n",
    "print(f\"img shape: {s_values.shape} range:{np.min(s_values)} - {np.max(s_values)}\")"
   ]
  },
  {
   "cell_type": "code",
   "execution_count": 12,
   "id": "63656a25-5485-4964-ad7b-02c326e863a2",
   "metadata": {},
   "outputs": [
    {
     "name": "stdout",
     "output_type": "stream",
     "text": [
      "#1 make empty inputs:0, outputs:0, neurons:0, links:0, total:0\n",
      "v: True\n"
     ]
    },
    {
     "name": "stderr",
     "output_type": "stream",
     "text": [
      "784it [00:00, 318729.70it/s]\n"
     ]
    },
    {
     "name": "stdout",
     "output_type": "stream",
     "text": [
      "#2 inputs: ok inputs:784, outputs:0, neurons:0, links:0, total:784\n",
      "#3 l0: ok inputs:784, outputs:0, neurons:784, links:0, total:1568\n",
      "v: True\n"
     ]
    },
    {
     "name": "stderr",
     "output_type": "stream",
     "text": [
      "100%|██████████| 614656/614656 [00:12<00:00, 47596.19it/s]"
     ]
    },
    {
     "name": "stdout",
     "output_type": "stream",
     "text": [
      "#4 l0_connection: ok inputs:784, outputs:0, neurons:784, links:614656, total:616224\n"
     ]
    },
    {
     "name": "stderr",
     "output_type": "stream",
     "text": [
      "\n"
     ]
    }
   ],
   "source": [
    "pkg = Package.make_empty()\n",
    "pkg.enable_safe_mode()\n",
    "print(f\"#1 make empty {pkg.counts()}\")\n",
    "inputs_layer_name, input_names, pkg = make_input_ngrid(pkg, s_values.shape, name_builder, \"MNIST_IN_layer\")\n",
    "print(f\"#2 inputs: ok {pkg.counts()}\")\n",
    "grid_layer_name, grid_inexes, pkg = struct_builder.make_ngrid(pkg, s_values.shape, neuron_builder, \"l0\")\n",
    "print(f\"#3 l0: ok {pkg.counts()}\")\n",
    "\n",
    "pr = cProfile.Profile()\n",
    "pr.enable()\n",
    "links_l0, pkg = connect_inputs_all(pkg, input_names, grid_inexes, link_builder)\n",
    "pr.disable()\n",
    "pkg.disable_safe_mode()\n",
    "#pr.dump_stats('connect_inputs_all.prof')\n",
    "print(f\"#4 l0_connection: ok {pkg.counts()}\")\n",
    "\n"
   ]
  },
  {
   "cell_type": "code",
   "execution_count": 13,
   "id": "f4bc1165-d4c2-4fed-9ef6-a5be534b1b43",
   "metadata": {},
   "outputs": [],
   "source": [
    "import io\n",
    "import pstats\n",
    "buffer = io.StringIO()\n",
    "ps = pstats.Stats(pr, stream=buffer).sort_stats('cumulative')\n",
    "ps.print_stats()\n",
    "pr.dump_stats('connect_inputs_all.prof')\n"
   ]
  },
  {
   "cell_type": "code",
   "execution_count": 14,
   "id": "e4dfa122-bfa8-4b6b-964b-beb7a4d17adb",
   "metadata": {},
   "outputs": [
    {
     "name": "stdout",
     "output_type": "stream",
     "text": [
      "Local cdn resources have problems on chrome/safari when used in jupyter-notebook. \n"
     ]
    },
    {
     "ename": "ValueError",
     "evalue": "The truth value of an array with more than one element is ambiguous. Use a.any() or a.all()",
     "output_type": "error",
     "traceback": [
      "\u001b[0;31m---------------------------------------------------------------------------\u001b[0m",
      "\u001b[0;31mValueError\u001b[0m                                Traceback (most recent call last)",
      "Cell \u001b[0;32mIn[14], line 1\u001b[0m\n\u001b[0;32m----> 1\u001b[0m \u001b[43mPackageUIHelper\u001b[49m\u001b[38;5;241;43m.\u001b[39;49m\u001b[43mshowGraph\u001b[49m\u001b[43m(\u001b[49m\u001b[43mpkg\u001b[49m\u001b[43m)\u001b[49m\n",
      "File \u001b[0;32m~/work/ml/ml-learning/ml-learning/MgennPy/common/notebooks_utils.py:34\u001b[0m, in \u001b[0;36mPackageUIHelper.showGraph\u001b[0;34m(pkg, link_to_zero)\u001b[0m\n\u001b[1;32m     32\u001b[0m \u001b[38;5;28;01mif\u001b[39;00m pkg\u001b[38;5;241m.\u001b[39mlinks:\n\u001b[1;32m     33\u001b[0m     l \u001b[38;5;241m=\u001b[39m pkg\u001b[38;5;241m.\u001b[39mlinks[\u001b[38;5;241m1\u001b[39m]\n\u001b[0;32m---> 34\u001b[0m     start, stop \u001b[38;5;241m=\u001b[39m \u001b[43mpkg\u001b[49m\u001b[38;5;241;43m.\u001b[39;49m\u001b[43mlinkEnds\u001b[49m\u001b[43m(\u001b[49m\u001b[43ml\u001b[49m\u001b[43m)\u001b[49m\n\u001b[1;32m     35\u001b[0m     \u001b[38;5;28;01mfor\u001b[39;00m l \u001b[38;5;129;01min\u001b[39;00m pkg\u001b[38;5;241m.\u001b[39mlinks:\n\u001b[1;32m     36\u001b[0m         start, stop \u001b[38;5;241m=\u001b[39m pkg\u001b[38;5;241m.\u001b[39mlinkEnds(l)\n",
      "File \u001b[0;32m~/work/ml/ml-learning/ml-learning/MgennPy/common/package.py:476\u001b[0m, in \u001b[0;36mPackage.linkEnds\u001b[0;34m(self, link)\u001b[0m\n\u001b[1;32m    474\u001b[0m iid \u001b[38;5;241m=\u001b[39m i[\u001b[38;5;124m\"\u001b[39m\u001b[38;5;124mname\u001b[39m\u001b[38;5;124m\"\u001b[39m]\n\u001b[1;32m    475\u001b[0m \u001b[38;5;66;03m##print(np.array(i[\"receivers\"]))\u001b[39;00m\n\u001b[0;32m--> 476\u001b[0m \u001b[38;5;28;01mif\u001b[39;00m link_id \u001b[38;5;241m==\u001b[39m np\u001b[38;5;241m.\u001b[39marray(i[\u001b[38;5;124m\"\u001b[39m\u001b[38;5;124mreceivers\u001b[39m\u001b[38;5;124m\"\u001b[39m]):\n\u001b[1;32m    477\u001b[0m     start \u001b[38;5;241m=\u001b[39m iid\n\u001b[1;32m    478\u001b[0m     \u001b[38;5;28;01mbreak\u001b[39;00m\n",
      "\u001b[0;31mValueError\u001b[0m: The truth value of an array with more than one element is ambiguous. Use a.any() or a.all()"
     ]
    }
   ],
   "source": [
    "PackageUIHelper.showGraph(pkg)"
   ]
  },
  {
   "cell_type": "code",
   "execution_count": null,
   "id": "3a233f61",
   "metadata": {
    "id": "3a233f61"
   },
   "outputs": [],
   "source": [
    "F.set_print_token(inspect.currentframe().f_code.co_name)\n",
    "db_conf = mstorage.PG_Pool.db_conf_from_env()\n",
    "pool = mstorage.PG_Pool(db_conf)\n",
    "storage = mstorage.MgennStorage(pool)\n",
    "storage.pedantic_validation = True\n",
    "storage.init()\n",
    "\n",
    "\n",
    "\n",
    "\n",
    "cycle = mc.CoreLifeCycle()\n",
    "cycle.i_source = MockInputSource()\n",
    "cid, o_pkg = push_new_exec_ready(storage)\n",
    "job, pkg = storage.checkout_executor_job(cid)\n",
    "if not job or not isinstance(job, mstorage.ExecutorJob) or not job.isValid():\n",
    "    raise ValueError(\"no exec job!\")\n",
    "if not pkg or not pkg.isValid():\n",
    "    raise ValueError(\"no pkg!\")\n",
    "storage.undo_exec_checkout(cid)\n",
    "F.set_print_token(\"\")"
   ]
  },
  {
   "cell_type": "code",
   "execution_count": null,
   "id": "41856bb2-fca2-406b-b859-4e48a52360da",
   "metadata": {},
   "outputs": [],
   "source": []
  },
  {
   "cell_type": "code",
   "execution_count": null,
   "id": "c33fa3a2-c3c0-49ab-aed1-4be4ee602ab6",
   "metadata": {},
   "outputs": [],
   "source": []
  }
 ],
 "metadata": {
  "colab": {
   "provenance": []
  },
  "kernelspec": {
   "display_name": "Python 3 (ipykernel)",
   "language": "python",
   "name": "python3"
  },
  "language_info": {
   "codemirror_mode": {
    "name": "ipython",
    "version": 3
   },
   "file_extension": ".py",
   "mimetype": "text/x-python",
   "name": "python",
   "nbconvert_exporter": "python",
   "pygments_lexer": "ipython3",
   "version": "3.11.6"
  }
 },
 "nbformat": 4,
 "nbformat_minor": 5
}
